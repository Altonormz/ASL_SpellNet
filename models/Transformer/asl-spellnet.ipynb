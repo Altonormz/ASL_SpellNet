{
 "cells": [
  {
   "cell_type": "code",
   "execution_count": 1,
   "metadata": {
    "_cell_guid": "b1076dfc-b9ad-4769-8c92-a6c4dae69d19",
    "_uuid": "8f2839f25d086af736a60e9eeb907d3b93b6e0e5",
    "execution": {
     "iopub.execute_input": "2023-07-17T12:46:52.229716Z",
     "iopub.status.busy": "2023-07-17T12:46:52.228553Z",
     "iopub.status.idle": "2023-07-17T12:47:04.396150Z",
     "shell.execute_reply": "2023-07-17T12:47:04.394782Z",
     "shell.execute_reply.started": "2023-07-17T12:46:52.229674Z"
    }
   },
   "outputs": [
    {
     "name": "stderr",
     "output_type": "stream",
     "text": [
      "/opt/conda/lib/python3.10/site-packages/tensorflow_io/python/ops/__init__.py:98: UserWarning: unable to load libtensorflow_io_plugins.so: unable to open file: libtensorflow_io_plugins.so, from paths: ['/opt/conda/lib/python3.10/site-packages/tensorflow_io/python/ops/libtensorflow_io_plugins.so']\n",
      "caused by: ['/opt/conda/lib/python3.10/site-packages/tensorflow_io/python/ops/libtensorflow_io_plugins.so: undefined symbol: _ZN3tsl6StatusC1EN10tensorflow5error4CodeESt17basic_string_viewIcSt11char_traitsIcEENS_14SourceLocationE']\n",
      "  warnings.warn(f\"unable to load libtensorflow_io_plugins.so: {e}\")\n",
      "/opt/conda/lib/python3.10/site-packages/tensorflow_io/python/ops/__init__.py:104: UserWarning: file system plugins are not loaded: unable to open file: libtensorflow_io.so, from paths: ['/opt/conda/lib/python3.10/site-packages/tensorflow_io/python/ops/libtensorflow_io.so']\n",
      "caused by: ['/opt/conda/lib/python3.10/site-packages/tensorflow_io/python/ops/libtensorflow_io.so: undefined symbol: _ZTVN10tensorflow13GcsFileSystemE']\n",
      "  warnings.warn(f\"file system plugins are not loaded: {e}\")\n"
     ]
    },
    {
     "name": "stdout",
     "output_type": "stream",
     "text": [
      "Tensorflow Version 2.12.0\n",
      "Python Version: 3.10.10 | packaged by conda-forge | (main, Mar 24 2023, 20:08:06) [GCC 11.3.0]\n"
     ]
    }
   ],
   "source": [
    "# Got my import\n",
    "import numpy as np\n",
    "import pandas as pd\n",
    "import matplotlib.pyplot as plt\n",
    "import matplotlib as mpl\n",
    "import seaborn as sn\n",
    "import tensorflow as tf\n",
    "\n",
    "\n",
    "\n",
    "from tqdm.notebook import tqdm\n",
    "from sklearn.model_selection import train_test_split, GroupShuffleSplit\n",
    "from leven import levenshtein\n",
    "\n",
    "import glob\n",
    "import sys\n",
    "import os\n",
    "import math\n",
    "import gc\n",
    "import sys\n",
    "import sklearn\n",
    "import time\n",
    "import json\n",
    "import warnings\n",
    "warnings.simplefilter(action='ignore', category=FutureWarning)\n",
    "\n",
    "# TQDM Progress Bar With Pandas Apply Function\n",
    "tqdm.pandas()\n",
    "\n",
    "print(f'Tensorflow Version {tf.__version__}')\n",
    "print(f'Python Version: {sys.version}')\n"
   ]
  },
  {
   "cell_type": "code",
   "execution_count": 2,
   "metadata": {
    "execution": {
     "iopub.execute_input": "2023-07-17T12:47:04.402922Z",
     "iopub.status.busy": "2023-07-17T12:47:04.402004Z",
     "iopub.status.idle": "2023-07-17T12:47:04.412374Z",
     "shell.execute_reply": "2023-07-17T12:47:04.411269Z",
     "shell.execute_reply.started": "2023-07-17T12:47:04.402880Z"
    }
   },
   "outputs": [],
   "source": [
    "#  Doesn't work for me\n",
    "# import tensorflow_addons as tfa\n"
   ]
  },
  {
   "cell_type": "code",
   "execution_count": 3,
   "metadata": {
    "execution": {
     "iopub.execute_input": "2023-07-17T12:47:04.420232Z",
     "iopub.status.busy": "2023-07-17T12:47:04.417653Z",
     "iopub.status.idle": "2023-07-17T12:47:04.469472Z",
     "shell.execute_reply": "2023-07-17T12:47:04.468339Z",
     "shell.execute_reply.started": "2023-07-17T12:47:04.420181Z"
    }
   },
   "outputs": [
    {
     "data": {
      "text/html": [
       "<div>\n",
       "<style scoped>\n",
       "    .dataframe tbody tr th:only-of-type {\n",
       "        vertical-align: middle;\n",
       "    }\n",
       "\n",
       "    .dataframe tbody tr th {\n",
       "        vertical-align: top;\n",
       "    }\n",
       "\n",
       "    .dataframe thead th {\n",
       "        text-align: right;\n",
       "    }\n",
       "</style>\n",
       "<table border=\"1\" class=\"dataframe\">\n",
       "  <thead>\n",
       "    <tr style=\"text-align: right;\">\n",
       "      <th></th>\n",
       "      <th></th>\n",
       "      <th>!</th>\n",
       "      <th>#</th>\n",
       "      <th>$</th>\n",
       "      <th>%</th>\n",
       "      <th>&amp;</th>\n",
       "      <th>'</th>\n",
       "      <th>(</th>\n",
       "      <th>)</th>\n",
       "      <th>*</th>\n",
       "      <th>...</th>\n",
       "      <th>r</th>\n",
       "      <th>s</th>\n",
       "      <th>t</th>\n",
       "      <th>u</th>\n",
       "      <th>v</th>\n",
       "      <th>w</th>\n",
       "      <th>x</th>\n",
       "      <th>y</th>\n",
       "      <th>z</th>\n",
       "      <th>~</th>\n",
       "    </tr>\n",
       "  </thead>\n",
       "  <tbody>\n",
       "    <tr>\n",
       "      <th>Ordinal Encoding</th>\n",
       "      <td>0</td>\n",
       "      <td>1</td>\n",
       "      <td>2</td>\n",
       "      <td>3</td>\n",
       "      <td>4</td>\n",
       "      <td>5</td>\n",
       "      <td>6</td>\n",
       "      <td>7</td>\n",
       "      <td>8</td>\n",
       "      <td>9</td>\n",
       "      <td>...</td>\n",
       "      <td>49</td>\n",
       "      <td>50</td>\n",
       "      <td>51</td>\n",
       "      <td>52</td>\n",
       "      <td>53</td>\n",
       "      <td>54</td>\n",
       "      <td>55</td>\n",
       "      <td>56</td>\n",
       "      <td>57</td>\n",
       "      <td>58</td>\n",
       "    </tr>\n",
       "  </tbody>\n",
       "</table>\n",
       "<p>1 rows × 59 columns</p>\n",
       "</div>"
      ],
      "text/plain": [
       "                     !  #  $  %  &  '  (  )  *  ...   r   s   t   u   v   w  \\\n",
       "Ordinal Encoding  0  1  2  3  4  5  6  7  8  9  ...  49  50  51  52  53  54   \n",
       "\n",
       "                   x   y   z   ~  \n",
       "Ordinal Encoding  55  56  57  58  \n",
       "\n",
       "[1 rows x 59 columns]"
      ]
     },
     "metadata": {},
     "output_type": "display_data"
    }
   ],
   "source": [
    "# Read Character to Ordinal Encoding Mapping\n",
    "with open('/kaggle/input/asl-fingerspelling/character_to_prediction_index.json') as json_file:\n",
    "    CHAR2ORD = json.load(json_file)\n",
    "    \n",
    "# Ordinal to Character Mapping\n",
    "ORD2CHAR = {j:i for i,j in CHAR2ORD.items()}\n",
    "    \n",
    "# Character to Ordinal Encoding Mapping   \n",
    "display(pd.Series(CHAR2ORD).to_frame('Ordinal Encoding').T)"
   ]
  },
  {
   "cell_type": "code",
   "execution_count": 4,
   "metadata": {
    "execution": {
     "iopub.execute_input": "2023-07-17T12:47:04.478968Z",
     "iopub.status.busy": "2023-07-17T12:47:04.476147Z",
     "iopub.status.idle": "2023-07-17T12:47:04.496268Z",
     "shell.execute_reply": "2023-07-17T12:47:04.494996Z",
     "shell.execute_reply.started": "2023-07-17T12:47:04.478928Z"
    }
   },
   "outputs": [
    {
     "name": "stdout",
     "output_type": "stream",
     "text": [
      "Original number of unique characters 59\n",
      "Total number of unique characters 62\n"
     ]
    }
   ],
   "source": [
    "# If Notebook Is Run By Committing or In Interactive Mode For Development\n",
    "IS_INTERACTIVE = os.environ['KAGGLE_KERNEL_RUN_TYPE'] == 'Interactive'\n",
    "# Verbose Setting during training\n",
    "VERBOSE = 1 if IS_INTERACTIVE else 2\n",
    "# Global Random Seed\n",
    "SEED = 20 # Yay first change\n",
    "# Number of Frames to resize recording to\n",
    "N_TARGET_FRAMES = 128\n",
    "# Global debug flag, takes subset of train\n",
    "DEBUG = False\n",
    "\n",
    "N_UNIQUE_CHARACTERS0 = len(CHAR2ORD)\n",
    "print(f'Original number of unique characters {N_UNIQUE_CHARACTERS0}')\n",
    "PAD_TOKEN = N_UNIQUE_CHARACTERS0 # This will be the position of Pad Token\n",
    "SOS_TOKEN = N_UNIQUE_CHARACTERS0 + 1 # This will be the position of the SOS Token\n",
    "EOS_TOKEN = N_UNIQUE_CHARACTERS0 + 2 # This will be the position of EOS Toekn\n",
    "N_UNIQUE_CHARACTERS = N_UNIQUE_CHARACTERS0 + 3 # Total number of tokens\n",
    "print(f'Total number of unique characters {N_UNIQUE_CHARACTERS}')\n",
    "# Whether to use 30% of data for validation\n",
    "USE_VAL = True\n",
    "# Batch Size\n",
    "BATCH_SIZE = 64\n",
    "# Number of Epochs to Train for\n",
    "N_EPOCHS = 20\n",
    "# Number of Warmup Epochs in Learning Rate Scheduler\n",
    "N_WARMUP_EPOCHS = 10\n",
    "# Maximum Learning Rate\n",
    "LR_MAX = 1e-3\n",
    "# Weight Decay Ratio as Ratio of Learning Rate\n",
    "WD_RATIO = 0.05 # Regulaization to penalize large weights\n",
    "# Length of Phrase + EOS Token\n",
    "MAX_PHRASE_LENGTH = 31 + 1\n",
    "# Whether to Train The model\n",
    "TRAIN_MODEL = True\n",
    "# Whether to Load Pretrained Weights\n",
    "LOAD_WEIGHTS = False\n",
    "# Learning Rate Warmup Method [log,exp]\n",
    "WARMUP_METHOD = 'exp'"
   ]
  },
  {
   "cell_type": "code",
   "execution_count": 5,
   "metadata": {
    "execution": {
     "iopub.execute_input": "2023-07-17T12:47:04.505740Z",
     "iopub.status.busy": "2023-07-17T12:47:04.502452Z",
     "iopub.status.idle": "2023-07-17T12:47:04.517528Z",
     "shell.execute_reply": "2023-07-17T12:47:04.516279Z",
     "shell.execute_reply.started": "2023-07-17T12:47:04.505701Z"
    }
   },
   "outputs": [],
   "source": [
    "# MatplotLib Global Settings\n",
    "mpl.rcParams.update(mpl.rcParamsDefault)\n",
    "mpl.rcParams['xtick.labelsize'] = 16\n",
    "mpl.rcParams['ytick.labelsize'] = 16\n",
    "mpl.rcParams['axes.labelsize'] = 18\n",
    "mpl.rcParams['axes.titlesize'] = 24"
   ]
  },
  {
   "cell_type": "code",
   "execution_count": 6,
   "metadata": {
    "execution": {
     "iopub.execute_input": "2023-07-17T12:47:04.527033Z",
     "iopub.status.busy": "2023-07-17T12:47:04.523788Z",
     "iopub.status.idle": "2023-07-17T12:47:20.716979Z",
     "shell.execute_reply": "2023-07-17T12:47:20.715724Z",
     "shell.execute_reply.started": "2023-07-17T12:47:04.526992Z"
    }
   },
   "outputs": [
    {
     "data": {
      "text/html": [
       "<div>\n",
       "<style scoped>\n",
       "    .dataframe tbody tr th:only-of-type {\n",
       "        vertical-align: middle;\n",
       "    }\n",
       "\n",
       "    .dataframe tbody tr th {\n",
       "        vertical-align: top;\n",
       "    }\n",
       "\n",
       "    .dataframe thead th {\n",
       "        text-align: right;\n",
       "    }\n",
       "</style>\n",
       "<table border=\"1\" class=\"dataframe\">\n",
       "  <thead>\n",
       "    <tr style=\"text-align: right;\">\n",
       "      <th></th>\n",
       "      <th>frame</th>\n",
       "      <th>x_face_0</th>\n",
       "      <th>x_face_1</th>\n",
       "      <th>x_face_2</th>\n",
       "      <th>x_face_3</th>\n",
       "      <th>x_face_4</th>\n",
       "      <th>x_face_5</th>\n",
       "      <th>x_face_6</th>\n",
       "      <th>x_face_7</th>\n",
       "      <th>x_face_8</th>\n",
       "      <th>...</th>\n",
       "      <th>z_right_hand_11</th>\n",
       "      <th>z_right_hand_12</th>\n",
       "      <th>z_right_hand_13</th>\n",
       "      <th>z_right_hand_14</th>\n",
       "      <th>z_right_hand_15</th>\n",
       "      <th>z_right_hand_16</th>\n",
       "      <th>z_right_hand_17</th>\n",
       "      <th>z_right_hand_18</th>\n",
       "      <th>z_right_hand_19</th>\n",
       "      <th>z_right_hand_20</th>\n",
       "    </tr>\n",
       "    <tr>\n",
       "      <th>sequence_id</th>\n",
       "      <th></th>\n",
       "      <th></th>\n",
       "      <th></th>\n",
       "      <th></th>\n",
       "      <th></th>\n",
       "      <th></th>\n",
       "      <th></th>\n",
       "      <th></th>\n",
       "      <th></th>\n",
       "      <th></th>\n",
       "      <th></th>\n",
       "      <th></th>\n",
       "      <th></th>\n",
       "      <th></th>\n",
       "      <th></th>\n",
       "      <th></th>\n",
       "      <th></th>\n",
       "      <th></th>\n",
       "      <th></th>\n",
       "      <th></th>\n",
       "      <th></th>\n",
       "    </tr>\n",
       "  </thead>\n",
       "  <tbody>\n",
       "    <tr>\n",
       "      <th>1975433633</th>\n",
       "      <td>0</td>\n",
       "      <td>0.578892</td>\n",
       "      <td>0.578482</td>\n",
       "      <td>0.582906</td>\n",
       "      <td>0.572686</td>\n",
       "      <td>0.579030</td>\n",
       "      <td>0.582115</td>\n",
       "      <td>0.591430</td>\n",
       "      <td>0.498995</td>\n",
       "      <td>0.595773</td>\n",
       "      <td>...</td>\n",
       "      <td>-0.253687</td>\n",
       "      <td>-0.291687</td>\n",
       "      <td>-0.123892</td>\n",
       "      <td>-0.195255</td>\n",
       "      <td>-0.249135</td>\n",
       "      <td>-0.284375</td>\n",
       "      <td>-0.125050</td>\n",
       "      <td>-0.187797</td>\n",
       "      <td>-0.224827</td>\n",
       "      <td>-0.249662</td>\n",
       "    </tr>\n",
       "    <tr>\n",
       "      <th>1975433633</th>\n",
       "      <td>1</td>\n",
       "      <td>0.577563</td>\n",
       "      <td>0.578528</td>\n",
       "      <td>0.582916</td>\n",
       "      <td>0.572760</td>\n",
       "      <td>0.579090</td>\n",
       "      <td>0.582197</td>\n",
       "      <td>0.591687</td>\n",
       "      <td>0.497613</td>\n",
       "      <td>0.596104</td>\n",
       "      <td>...</td>\n",
       "      <td>NaN</td>\n",
       "      <td>NaN</td>\n",
       "      <td>NaN</td>\n",
       "      <td>NaN</td>\n",
       "      <td>NaN</td>\n",
       "      <td>NaN</td>\n",
       "      <td>NaN</td>\n",
       "      <td>NaN</td>\n",
       "      <td>NaN</td>\n",
       "      <td>NaN</td>\n",
       "    </tr>\n",
       "    <tr>\n",
       "      <th>1975433633</th>\n",
       "      <td>2</td>\n",
       "      <td>0.576181</td>\n",
       "      <td>0.576949</td>\n",
       "      <td>0.581346</td>\n",
       "      <td>0.572293</td>\n",
       "      <td>0.577725</td>\n",
       "      <td>0.581191</td>\n",
       "      <td>0.591550</td>\n",
       "      <td>0.497113</td>\n",
       "      <td>0.596477</td>\n",
       "      <td>...</td>\n",
       "      <td>-0.233556</td>\n",
       "      <td>-0.267114</td>\n",
       "      <td>-0.116145</td>\n",
       "      <td>-0.179053</td>\n",
       "      <td>-0.223861</td>\n",
       "      <td>-0.253004</td>\n",
       "      <td>-0.122090</td>\n",
       "      <td>-0.173169</td>\n",
       "      <td>-0.200727</td>\n",
       "      <td>-0.219106</td>\n",
       "    </tr>\n",
       "    <tr>\n",
       "      <th>1975433633</th>\n",
       "      <td>3</td>\n",
       "      <td>0.575575</td>\n",
       "      <td>0.577569</td>\n",
       "      <td>0.581769</td>\n",
       "      <td>0.572443</td>\n",
       "      <td>0.578289</td>\n",
       "      <td>0.581652</td>\n",
       "      <td>0.591728</td>\n",
       "      <td>0.496759</td>\n",
       "      <td>0.596573</td>\n",
       "      <td>...</td>\n",
       "      <td>-0.190909</td>\n",
       "      <td>-0.218471</td>\n",
       "      <td>-0.093956</td>\n",
       "      <td>-0.149982</td>\n",
       "      <td>-0.188452</td>\n",
       "      <td>-0.211573</td>\n",
       "      <td>-0.102759</td>\n",
       "      <td>-0.147642</td>\n",
       "      <td>-0.168562</td>\n",
       "      <td>-0.180578</td>\n",
       "    </tr>\n",
       "    <tr>\n",
       "      <th>1975433633</th>\n",
       "      <td>4</td>\n",
       "      <td>0.577907</td>\n",
       "      <td>0.577628</td>\n",
       "      <td>0.582295</td>\n",
       "      <td>0.572930</td>\n",
       "      <td>0.578345</td>\n",
       "      <td>0.581873</td>\n",
       "      <td>0.592467</td>\n",
       "      <td>0.498170</td>\n",
       "      <td>0.597383</td>\n",
       "      <td>...</td>\n",
       "      <td>NaN</td>\n",
       "      <td>NaN</td>\n",
       "      <td>NaN</td>\n",
       "      <td>NaN</td>\n",
       "      <td>NaN</td>\n",
       "      <td>NaN</td>\n",
       "      <td>NaN</td>\n",
       "      <td>NaN</td>\n",
       "      <td>NaN</td>\n",
       "      <td>NaN</td>\n",
       "    </tr>\n",
       "  </tbody>\n",
       "</table>\n",
       "<p>5 rows × 1630 columns</p>\n",
       "</div>"
      ],
      "text/plain": [
       "             frame  x_face_0  x_face_1  x_face_2  x_face_3  x_face_4  \\\n",
       "sequence_id                                                            \n",
       "1975433633       0  0.578892  0.578482  0.582906  0.572686  0.579030   \n",
       "1975433633       1  0.577563  0.578528  0.582916  0.572760  0.579090   \n",
       "1975433633       2  0.576181  0.576949  0.581346  0.572293  0.577725   \n",
       "1975433633       3  0.575575  0.577569  0.581769  0.572443  0.578289   \n",
       "1975433633       4  0.577907  0.577628  0.582295  0.572930  0.578345   \n",
       "\n",
       "             x_face_5  x_face_6  x_face_7  x_face_8  ...  z_right_hand_11  \\\n",
       "sequence_id                                          ...                    \n",
       "1975433633   0.582115  0.591430  0.498995  0.595773  ...        -0.253687   \n",
       "1975433633   0.582197  0.591687  0.497613  0.596104  ...              NaN   \n",
       "1975433633   0.581191  0.591550  0.497113  0.596477  ...        -0.233556   \n",
       "1975433633   0.581652  0.591728  0.496759  0.596573  ...        -0.190909   \n",
       "1975433633   0.581873  0.592467  0.498170  0.597383  ...              NaN   \n",
       "\n",
       "             z_right_hand_12  z_right_hand_13  z_right_hand_14  \\\n",
       "sequence_id                                                      \n",
       "1975433633         -0.291687        -0.123892        -0.195255   \n",
       "1975433633               NaN              NaN              NaN   \n",
       "1975433633         -0.267114        -0.116145        -0.179053   \n",
       "1975433633         -0.218471        -0.093956        -0.149982   \n",
       "1975433633               NaN              NaN              NaN   \n",
       "\n",
       "             z_right_hand_15  z_right_hand_16  z_right_hand_17  \\\n",
       "sequence_id                                                      \n",
       "1975433633         -0.249135        -0.284375        -0.125050   \n",
       "1975433633               NaN              NaN              NaN   \n",
       "1975433633         -0.223861        -0.253004        -0.122090   \n",
       "1975433633         -0.188452        -0.211573        -0.102759   \n",
       "1975433633               NaN              NaN              NaN   \n",
       "\n",
       "             z_right_hand_18  z_right_hand_19  z_right_hand_20  \n",
       "sequence_id                                                     \n",
       "1975433633         -0.187797        -0.224827        -0.249662  \n",
       "1975433633               NaN              NaN              NaN  \n",
       "1975433633         -0.173169        -0.200727        -0.219106  \n",
       "1975433633         -0.147642        -0.168562        -0.180578  \n",
       "1975433633               NaN              NaN              NaN  \n",
       "\n",
       "[5 rows x 1630 columns]"
      ]
     },
     "execution_count": 6,
     "metadata": {},
     "output_type": "execute_result"
    }
   ],
   "source": [
    "df = pd.read_parquet('/kaggle/input/asl-fingerspelling/train_landmarks/1019715464.parquet')\n",
    "df.head()\n",
    "\n",
    "    "
   ]
  },
  {
   "cell_type": "code",
   "execution_count": 7,
   "metadata": {
    "execution": {
     "iopub.execute_input": "2023-07-17T12:47:20.724289Z",
     "iopub.status.busy": "2023-07-17T12:47:20.719531Z",
     "iopub.status.idle": "2023-07-17T12:47:20.736786Z",
     "shell.execute_reply": "2023-07-17T12:47:20.735332Z",
     "shell.execute_reply.started": "2023-07-17T12:47:20.724246Z"
    }
   },
   "outputs": [
    {
     "data": {
      "text/plain": [
       "<pandas.core.groupby.generic.DataFrameGroupBy object at 0x7f474eab8e20>"
      ]
     },
     "execution_count": 7,
     "metadata": {},
     "output_type": "execute_result"
    }
   ],
   "source": [
    "df.groupby(by=['sequence_id'])"
   ]
  },
  {
   "cell_type": "code",
   "execution_count": 8,
   "metadata": {
    "execution": {
     "iopub.execute_input": "2023-07-17T12:47:20.742626Z",
     "iopub.status.busy": "2023-07-17T12:47:20.740471Z",
     "iopub.status.idle": "2023-07-17T12:47:20.879142Z",
     "shell.execute_reply": "2023-07-17T12:47:20.877680Z",
     "shell.execute_reply.started": "2023-07-17T12:47:20.742579Z"
    }
   },
   "outputs": [
    {
     "name": "stdout",
     "output_type": "stream",
     "text": [
      "<class 'pandas.core.frame.DataFrame'>\n",
      "Int64Index: 161461 entries, 1975433633 to 2008677531\n",
      "Columns: 1630 entries, frame to z_right_hand_20\n",
      "dtypes: float32(1629), int16(1)\n",
      "memory usage: 1004.9 MB\n"
     ]
    }
   ],
   "source": [
    "df.info()"
   ]
  },
  {
   "cell_type": "code",
   "execution_count": 9,
   "metadata": {
    "execution": {
     "iopub.execute_input": "2023-07-17T12:47:20.882281Z",
     "iopub.status.busy": "2023-07-17T12:47:20.881353Z",
     "iopub.status.idle": "2023-07-17T12:47:20.893554Z",
     "shell.execute_reply": "2023-07-17T12:47:20.892307Z",
     "shell.execute_reply.started": "2023-07-17T12:47:20.882216Z"
    }
   },
   "outputs": [
    {
     "data": {
      "text/plain": [
       "(161461, 1630)"
      ]
     },
     "execution_count": 9,
     "metadata": {},
     "output_type": "execute_result"
    }
   ],
   "source": [
    "df.shape"
   ]
  },
  {
   "cell_type": "code",
   "execution_count": 10,
   "metadata": {
    "execution": {
     "iopub.execute_input": "2023-07-17T12:47:20.905457Z",
     "iopub.status.busy": "2023-07-17T12:47:20.904510Z",
     "iopub.status.idle": "2023-07-17T12:47:20.937661Z",
     "shell.execute_reply": "2023-07-17T12:47:20.936414Z",
     "shell.execute_reply.started": "2023-07-17T12:47:20.905410Z"
    }
   },
   "outputs": [
    {
     "name": "stdout",
     "output_type": "stream",
     "text": [
      "Most frames for a single sequence we have in the parqet: 751\n"
     ]
    }
   ],
   "source": [
    "MAX_FRAMES = df.loc[df.groupby(by ='sequence_id').size().idxmax()].shape[0]\n",
    "print(f'Most frames for a single sequence we have in the parqet: {MAX_FRAMES}')"
   ]
  },
  {
   "cell_type": "code",
   "execution_count": 11,
   "metadata": {
    "execution": {
     "iopub.execute_input": "2023-07-17T12:47:20.946657Z",
     "iopub.status.busy": "2023-07-17T12:47:20.943481Z",
     "iopub.status.idle": "2023-07-17T12:47:21.283921Z",
     "shell.execute_reply": "2023-07-17T12:47:21.282598Z",
     "shell.execute_reply.started": "2023-07-17T12:47:20.946610Z"
    }
   },
   "outputs": [
    {
     "name": "stdout",
     "output_type": "stream",
     "text": [
      "N_SAMPLES: 67208\n",
      "<class 'pandas.core.frame.DataFrame'>\n",
      "RangeIndex: 67208 entries, 0 to 67207\n",
      "Data columns (total 5 columns):\n",
      " #   Column          Non-Null Count  Dtype \n",
      "---  ------          --------------  ----- \n",
      " 0   path            67208 non-null  object\n",
      " 1   file_id         67208 non-null  int64 \n",
      " 2   sequence_id     67208 non-null  int64 \n",
      " 3   participant_id  67208 non-null  int64 \n",
      " 4   phrase          67208 non-null  object\n",
      "dtypes: int64(3), object(2)\n",
      "memory usage: 2.6+ MB\n"
     ]
    },
    {
     "data": {
      "text/plain": [
       "None"
      ]
     },
     "metadata": {},
     "output_type": "display_data"
    },
    {
     "data": {
      "text/html": [
       "<div>\n",
       "<style scoped>\n",
       "    .dataframe tbody tr th:only-of-type {\n",
       "        vertical-align: middle;\n",
       "    }\n",
       "\n",
       "    .dataframe tbody tr th {\n",
       "        vertical-align: top;\n",
       "    }\n",
       "\n",
       "    .dataframe thead th {\n",
       "        text-align: right;\n",
       "    }\n",
       "</style>\n",
       "<table border=\"1\" class=\"dataframe\">\n",
       "  <thead>\n",
       "    <tr style=\"text-align: right;\">\n",
       "      <th></th>\n",
       "      <th>path</th>\n",
       "      <th>file_id</th>\n",
       "      <th>sequence_id</th>\n",
       "      <th>participant_id</th>\n",
       "      <th>phrase</th>\n",
       "    </tr>\n",
       "  </thead>\n",
       "  <tbody>\n",
       "    <tr>\n",
       "      <th>0</th>\n",
       "      <td>train_landmarks/5414471.parquet</td>\n",
       "      <td>5414471</td>\n",
       "      <td>1816796431</td>\n",
       "      <td>217</td>\n",
       "      <td>3 creekhouse</td>\n",
       "    </tr>\n",
       "    <tr>\n",
       "      <th>1</th>\n",
       "      <td>train_landmarks/5414471.parquet</td>\n",
       "      <td>5414471</td>\n",
       "      <td>1816825349</td>\n",
       "      <td>107</td>\n",
       "      <td>scales/kuhaylah</td>\n",
       "    </tr>\n",
       "    <tr>\n",
       "      <th>2</th>\n",
       "      <td>train_landmarks/5414471.parquet</td>\n",
       "      <td>5414471</td>\n",
       "      <td>1816909464</td>\n",
       "      <td>1</td>\n",
       "      <td>1383 william lanier</td>\n",
       "    </tr>\n",
       "    <tr>\n",
       "      <th>3</th>\n",
       "      <td>train_landmarks/5414471.parquet</td>\n",
       "      <td>5414471</td>\n",
       "      <td>1816967051</td>\n",
       "      <td>63</td>\n",
       "      <td>988 franklin lane</td>\n",
       "    </tr>\n",
       "    <tr>\n",
       "      <th>4</th>\n",
       "      <td>train_landmarks/5414471.parquet</td>\n",
       "      <td>5414471</td>\n",
       "      <td>1817123330</td>\n",
       "      <td>89</td>\n",
       "      <td>6920 northeast 661st road</td>\n",
       "    </tr>\n",
       "  </tbody>\n",
       "</table>\n",
       "</div>"
      ],
      "text/plain": [
       "                              path  file_id  sequence_id  participant_id  \\\n",
       "0  train_landmarks/5414471.parquet  5414471   1816796431             217   \n",
       "1  train_landmarks/5414471.parquet  5414471   1816825349             107   \n",
       "2  train_landmarks/5414471.parquet  5414471   1816909464               1   \n",
       "3  train_landmarks/5414471.parquet  5414471   1816967051              63   \n",
       "4  train_landmarks/5414471.parquet  5414471   1817123330              89   \n",
       "\n",
       "                      phrase  \n",
       "0               3 creekhouse  \n",
       "1            scales/kuhaylah  \n",
       "2        1383 william lanier  \n",
       "3          988 franklin lane  \n",
       "4  6920 northeast 661st road  "
      ]
     },
     "metadata": {},
     "output_type": "display_data"
    }
   ],
   "source": [
    "# Read Train DataFrame\n",
    "if DEBUG:\n",
    "    train = pd.read_csv('/kaggle/input/asl-fingerspelling/train.csv').head(5000)\n",
    "else:\n",
    "    train = pd.read_csv('/kaggle/input/asl-fingerspelling/train.csv')\n",
    "    \n",
    "# Set Train Indexed By sqeuence_id\n",
    "train_sequence_id = train.set_index('sequence_id')\n",
    "\n",
    "# Number Of Train Samples\n",
    "N_SAMPLES = len(train)\n",
    "print(f'N_SAMPLES: {N_SAMPLES}')\n",
    "\n",
    "display(train.info())\n",
    "display(train.head())"
   ]
  },
  {
   "cell_type": "code",
   "execution_count": 12,
   "metadata": {
    "execution": {
     "iopub.execute_input": "2023-07-17T12:47:21.287008Z",
     "iopub.status.busy": "2023-07-17T12:47:21.286079Z",
     "iopub.status.idle": "2023-07-17T12:47:21.345768Z",
     "shell.execute_reply": "2023-07-17T12:47:21.344576Z",
     "shell.execute_reply.started": "2023-07-17T12:47:21.286963Z"
    }
   },
   "outputs": [],
   "source": [
    "# Get complete file path to file\n",
    "def get_file_path(path):\n",
    "    return f'/kaggle/input/asl-fingerspelling/{path}'\n",
    "\n",
    "train['file_path'] = train['path'].apply(get_file_path)"
   ]
  },
  {
   "cell_type": "code",
   "execution_count": 13,
   "metadata": {
    "execution": {
     "iopub.execute_input": "2023-07-17T12:47:21.348618Z",
     "iopub.status.busy": "2023-07-17T12:47:21.347758Z",
     "iopub.status.idle": "2023-07-17T12:47:21.361328Z",
     "shell.execute_reply": "2023-07-17T12:47:21.360146Z",
     "shell.execute_reply.started": "2023-07-17T12:47:21.348579Z"
    }
   },
   "outputs": [
    {
     "name": "stdout",
     "output_type": "stream",
     "text": [
      "Found 10 Inference Pickle Files\n"
     ]
    }
   ],
   "source": [
    "# Unique Parquet Files\n",
    "INFERENCE_FILE_PATHS = pd.Series(\n",
    "        glob.glob('/kaggle/input/aslfr-preprocessing-dataset/train_landmark_subsets/*')\n",
    "    )\n",
    "\n",
    "print(f'Found {len(INFERENCE_FILE_PATHS)} Inference Pickle Files')"
   ]
  },
  {
   "cell_type": "code",
   "execution_count": 14,
   "metadata": {
    "execution": {
     "iopub.execute_input": "2023-07-17T12:47:21.372589Z",
     "iopub.status.busy": "2023-07-17T12:47:21.364762Z",
     "iopub.status.idle": "2023-07-17T12:48:08.921543Z",
     "shell.execute_reply": "2023-07-17T12:48:08.920374Z",
     "shell.execute_reply.started": "2023-07-17T12:47:21.372533Z"
    }
   },
   "outputs": [
    {
     "name": "stdout",
     "output_type": "stream",
     "text": [
      "X_train shape: (43369, 128, 164), X_val shape: (9293, 128, 164), X_test shape: (9293, 128, 164)\n",
      "y_train shape: (43369, 32), y_val shape: (9293, 32), y_test shape: (9293, 32)\n"
     ]
    }
   ],
   "source": [
    "# # Train/Validation\n",
    "if USE_VAL:\n",
    "    # TRAIN\n",
    "    X_train = np.load('/kaggle/input/asl-spellnet-dataset/X_train.npy')\n",
    "    y_train = np.load('/kaggle/input/asl-spellnet-dataset/y_train.npy')[:,:MAX_PHRASE_LENGTH]\n",
    "    N_TRAIN_SAMPLES = len(X_train)\n",
    "    # VAL\n",
    "    X_val = np.load('/kaggle/input/asl-spellnet-dataset/X_val.npy')\n",
    "    y_val = np.load('/kaggle/input/asl-spellnet-dataset/y_val.npy')[:,:MAX_PHRASE_LENGTH]\n",
    "    N_VAL_SAMPLES = len(X_val)\n",
    "    # Test\n",
    "    X_test = np.load('/kaggle/input/asl-spellnet-dataset/X_test.npy')\n",
    "    y_test = np.load('/kaggle/input/asl-spellnet-dataset/y_test.npy')[:,:MAX_PHRASE_LENGTH]\n",
    "    N_TEST_SAMPLES = len(X_test)\n",
    "    # Shapes\n",
    "    print(f'X_train shape: {X_train.shape}, X_val shape: {X_val.shape}, X_test shape: {X_test.shape}')\n",
    "    print(f'y_train shape: {y_train.shape}, y_val shape: {y_val.shape}, y_test shape: {y_test.shape}')\n",
    "\n",
    "\n",
    "# Train On All Data\n",
    "else:\n",
    "    # TRAIN\n",
    "    X_train = np.load('/kaggle/input/aslfr-preprocessing-dataset/X.npy')\n",
    "    y_train = np.load('/kaggle/input/aslfr-preprocessing-dataset/y.npy')[:,:MAX_PHRASE_LENGTH]\n",
    "    N_TRAIN_SAMPLES = len(X_train)\n",
    "    print(f'X_train shape: {X_train.shape}')"
   ]
  },
  {
   "cell_type": "code",
   "execution_count": 15,
   "metadata": {
    "execution": {
     "iopub.execute_input": "2023-07-17T12:48:08.923949Z",
     "iopub.status.busy": "2023-07-17T12:48:08.922913Z",
     "iopub.status.idle": "2023-07-17T12:48:09.053035Z",
     "shell.execute_reply": "2023-07-17T12:48:09.051917Z",
     "shell.execute_reply.started": "2023-07-17T12:48:08.923913Z"
    }
   },
   "outputs": [],
   "source": [
    "# Example Batch For Debugging\n",
    "N_EXAMPLE_BATCH_SAMPLES = 1024\n",
    "N_EXAMPLE_BATCH_SAMPLES_SMALL = 32\n",
    "# Example Batch\n",
    "X_batch = {\n",
    "    'frames': np.copy(X_train[:N_EXAMPLE_BATCH_SAMPLES]),\n",
    "    'phrase': np.copy(y_train[:N_EXAMPLE_BATCH_SAMPLES]),\n",
    "#     'phrase_type': np.copy(y_phrase_type_train[:N_EXAMPLE_BATCH_SAMPLES]),\n",
    "}\n",
    "y_batch = np.copy(y_train[:N_EXAMPLE_BATCH_SAMPLES])\n",
    "# Small Example Batch\n",
    "X_batch_small = {\n",
    "    'frames': np.copy(X_train[:N_EXAMPLE_BATCH_SAMPLES_SMALL]),\n",
    "    'phrase': np.copy(y_train[:N_EXAMPLE_BATCH_SAMPLES_SMALL]),\n",
    "#     'phrase_type': np.copy(y_phrase_type_train[:N_EXAMPLE_BATCH_SAMPLES_SMALL]),\n",
    "}\n",
    "y_batch_small = np.copy(y_train[:N_EXAMPLE_BATCH_SAMPLES_SMALL])"
   ]
  },
  {
   "cell_type": "code",
   "execution_count": 16,
   "metadata": {
    "execution": {
     "iopub.execute_input": "2023-07-17T12:48:09.054882Z",
     "iopub.status.busy": "2023-07-17T12:48:09.054455Z",
     "iopub.status.idle": "2023-07-17T12:48:10.292898Z",
     "shell.execute_reply": "2023-07-17T12:48:10.291846Z",
     "shell.execute_reply.started": "2023-07-17T12:48:09.054846Z"
    }
   },
   "outputs": [
    {
     "name": "stdout",
     "output_type": "stream",
     "text": [
      "# Unique Recording: 1000\n"
     ]
    },
    {
     "data": {
      "text/html": [
       "<div>\n",
       "<style scoped>\n",
       "    .dataframe tbody tr th:only-of-type {\n",
       "        vertical-align: middle;\n",
       "    }\n",
       "\n",
       "    .dataframe tbody tr th {\n",
       "        vertical-align: top;\n",
       "    }\n",
       "\n",
       "    .dataframe thead th {\n",
       "        text-align: right;\n",
       "    }\n",
       "</style>\n",
       "<table border=\"1\" class=\"dataframe\">\n",
       "  <thead>\n",
       "    <tr style=\"text-align: right;\">\n",
       "      <th></th>\n",
       "      <th>x_left_hand_0</th>\n",
       "      <th>x_left_hand_1</th>\n",
       "      <th>x_left_hand_2</th>\n",
       "      <th>x_left_hand_3</th>\n",
       "      <th>x_left_hand_4</th>\n",
       "      <th>x_left_hand_5</th>\n",
       "      <th>x_left_hand_6</th>\n",
       "      <th>x_left_hand_7</th>\n",
       "      <th>x_left_hand_8</th>\n",
       "      <th>x_left_hand_9</th>\n",
       "      <th>...</th>\n",
       "      <th>y_face_314</th>\n",
       "      <th>y_face_317</th>\n",
       "      <th>y_face_318</th>\n",
       "      <th>y_face_321</th>\n",
       "      <th>y_face_324</th>\n",
       "      <th>y_face_375</th>\n",
       "      <th>y_face_402</th>\n",
       "      <th>y_face_405</th>\n",
       "      <th>y_face_409</th>\n",
       "      <th>y_face_415</th>\n",
       "    </tr>\n",
       "    <tr>\n",
       "      <th>sequence_id</th>\n",
       "      <th></th>\n",
       "      <th></th>\n",
       "      <th></th>\n",
       "      <th></th>\n",
       "      <th></th>\n",
       "      <th></th>\n",
       "      <th></th>\n",
       "      <th></th>\n",
       "      <th></th>\n",
       "      <th></th>\n",
       "      <th></th>\n",
       "      <th></th>\n",
       "      <th></th>\n",
       "      <th></th>\n",
       "      <th></th>\n",
       "      <th></th>\n",
       "      <th></th>\n",
       "      <th></th>\n",
       "      <th></th>\n",
       "      <th></th>\n",
       "      <th></th>\n",
       "    </tr>\n",
       "  </thead>\n",
       "  <tbody>\n",
       "    <tr>\n",
       "      <th>1816796431</th>\n",
       "      <td>NaN</td>\n",
       "      <td>NaN</td>\n",
       "      <td>NaN</td>\n",
       "      <td>NaN</td>\n",
       "      <td>NaN</td>\n",
       "      <td>NaN</td>\n",
       "      <td>NaN</td>\n",
       "      <td>NaN</td>\n",
       "      <td>NaN</td>\n",
       "      <td>NaN</td>\n",
       "      <td>...</td>\n",
       "      <td>0.551424</td>\n",
       "      <td>0.538415</td>\n",
       "      <td>0.539000</td>\n",
       "      <td>0.546458</td>\n",
       "      <td>0.539715</td>\n",
       "      <td>0.543958</td>\n",
       "      <td>0.538425</td>\n",
       "      <td>0.549351</td>\n",
       "      <td>0.538230</td>\n",
       "      <td>0.540015</td>\n",
       "    </tr>\n",
       "    <tr>\n",
       "      <th>1816796431</th>\n",
       "      <td>NaN</td>\n",
       "      <td>NaN</td>\n",
       "      <td>NaN</td>\n",
       "      <td>NaN</td>\n",
       "      <td>NaN</td>\n",
       "      <td>NaN</td>\n",
       "      <td>NaN</td>\n",
       "      <td>NaN</td>\n",
       "      <td>NaN</td>\n",
       "      <td>NaN</td>\n",
       "      <td>...</td>\n",
       "      <td>0.550706</td>\n",
       "      <td>0.538216</td>\n",
       "      <td>0.538723</td>\n",
       "      <td>0.545990</td>\n",
       "      <td>0.539296</td>\n",
       "      <td>0.543357</td>\n",
       "      <td>0.538225</td>\n",
       "      <td>0.548827</td>\n",
       "      <td>0.537376</td>\n",
       "      <td>0.539256</td>\n",
       "    </tr>\n",
       "    <tr>\n",
       "      <th>1816796431</th>\n",
       "      <td>NaN</td>\n",
       "      <td>NaN</td>\n",
       "      <td>NaN</td>\n",
       "      <td>NaN</td>\n",
       "      <td>NaN</td>\n",
       "      <td>NaN</td>\n",
       "      <td>NaN</td>\n",
       "      <td>NaN</td>\n",
       "      <td>NaN</td>\n",
       "      <td>NaN</td>\n",
       "      <td>...</td>\n",
       "      <td>0.550613</td>\n",
       "      <td>0.537836</td>\n",
       "      <td>0.538564</td>\n",
       "      <td>0.545949</td>\n",
       "      <td>0.539212</td>\n",
       "      <td>0.543279</td>\n",
       "      <td>0.537961</td>\n",
       "      <td>0.548796</td>\n",
       "      <td>0.537360</td>\n",
       "      <td>0.539332</td>\n",
       "    </tr>\n",
       "    <tr>\n",
       "      <th>1816796431</th>\n",
       "      <td>NaN</td>\n",
       "      <td>NaN</td>\n",
       "      <td>NaN</td>\n",
       "      <td>NaN</td>\n",
       "      <td>NaN</td>\n",
       "      <td>NaN</td>\n",
       "      <td>NaN</td>\n",
       "      <td>NaN</td>\n",
       "      <td>NaN</td>\n",
       "      <td>NaN</td>\n",
       "      <td>...</td>\n",
       "      <td>0.549740</td>\n",
       "      <td>0.536994</td>\n",
       "      <td>0.538449</td>\n",
       "      <td>0.545622</td>\n",
       "      <td>0.539666</td>\n",
       "      <td>0.543694</td>\n",
       "      <td>0.537328</td>\n",
       "      <td>0.548015</td>\n",
       "      <td>0.538301</td>\n",
       "      <td>0.539954</td>\n",
       "    </tr>\n",
       "    <tr>\n",
       "      <th>1816796431</th>\n",
       "      <td>NaN</td>\n",
       "      <td>NaN</td>\n",
       "      <td>NaN</td>\n",
       "      <td>NaN</td>\n",
       "      <td>NaN</td>\n",
       "      <td>NaN</td>\n",
       "      <td>NaN</td>\n",
       "      <td>NaN</td>\n",
       "      <td>NaN</td>\n",
       "      <td>NaN</td>\n",
       "      <td>...</td>\n",
       "      <td>0.550614</td>\n",
       "      <td>0.538677</td>\n",
       "      <td>0.540376</td>\n",
       "      <td>0.547104</td>\n",
       "      <td>0.541524</td>\n",
       "      <td>0.545222</td>\n",
       "      <td>0.539203</td>\n",
       "      <td>0.549211</td>\n",
       "      <td>0.539734</td>\n",
       "      <td>0.541707</td>\n",
       "    </tr>\n",
       "  </tbody>\n",
       "</table>\n",
       "<p>5 rows × 164 columns</p>\n",
       "</div>"
      ],
      "text/plain": [
       "             x_left_hand_0  x_left_hand_1  x_left_hand_2  x_left_hand_3  \\\n",
       "sequence_id                                                               \n",
       "1816796431             NaN            NaN            NaN            NaN   \n",
       "1816796431             NaN            NaN            NaN            NaN   \n",
       "1816796431             NaN            NaN            NaN            NaN   \n",
       "1816796431             NaN            NaN            NaN            NaN   \n",
       "1816796431             NaN            NaN            NaN            NaN   \n",
       "\n",
       "             x_left_hand_4  x_left_hand_5  x_left_hand_6  x_left_hand_7  \\\n",
       "sequence_id                                                               \n",
       "1816796431             NaN            NaN            NaN            NaN   \n",
       "1816796431             NaN            NaN            NaN            NaN   \n",
       "1816796431             NaN            NaN            NaN            NaN   \n",
       "1816796431             NaN            NaN            NaN            NaN   \n",
       "1816796431             NaN            NaN            NaN            NaN   \n",
       "\n",
       "             x_left_hand_8  x_left_hand_9  ...  y_face_314  y_face_317  \\\n",
       "sequence_id                                ...                           \n",
       "1816796431             NaN            NaN  ...    0.551424    0.538415   \n",
       "1816796431             NaN            NaN  ...    0.550706    0.538216   \n",
       "1816796431             NaN            NaN  ...    0.550613    0.537836   \n",
       "1816796431             NaN            NaN  ...    0.549740    0.536994   \n",
       "1816796431             NaN            NaN  ...    0.550614    0.538677   \n",
       "\n",
       "             y_face_318  y_face_321  y_face_324  y_face_375  y_face_402  \\\n",
       "sequence_id                                                               \n",
       "1816796431     0.539000    0.546458    0.539715    0.543958    0.538425   \n",
       "1816796431     0.538723    0.545990    0.539296    0.543357    0.538225   \n",
       "1816796431     0.538564    0.545949    0.539212    0.543279    0.537961   \n",
       "1816796431     0.538449    0.545622    0.539666    0.543694    0.537328   \n",
       "1816796431     0.540376    0.547104    0.541524    0.545222    0.539203   \n",
       "\n",
       "             y_face_405  y_face_409  y_face_415  \n",
       "sequence_id                                      \n",
       "1816796431     0.549351    0.538230    0.540015  \n",
       "1816796431     0.548827    0.537376    0.539256  \n",
       "1816796431     0.548796    0.537360    0.539332  \n",
       "1816796431     0.548015    0.538301    0.539954  \n",
       "1816796431     0.549211    0.539734    0.541707  \n",
       "\n",
       "[5 rows x 164 columns]"
      ]
     },
     "metadata": {},
     "output_type": "display_data"
    }
   ],
   "source": [
    "# Read First Parquet File\n",
    "# example_parquet_df = pd.read_parquet(train['file_path'][0])\n",
    "example_parquet_df = pd.read_parquet(INFERENCE_FILE_PATHS[0])\n",
    "\n",
    "# Each parquet file contains 1000 recordings\n",
    "print(f'# Unique Recording: {example_parquet_df.index.nunique()}')\n",
    "# Display DataFrame layout\n",
    "display(example_parquet_df.head())"
   ]
  },
  {
   "cell_type": "code",
   "execution_count": 17,
   "metadata": {
    "execution": {
     "iopub.execute_input": "2023-07-17T12:48:10.295759Z",
     "iopub.status.busy": "2023-07-17T12:48:10.294672Z",
     "iopub.status.idle": "2023-07-17T12:48:10.306358Z",
     "shell.execute_reply": "2023-07-17T12:48:10.305268Z",
     "shell.execute_reply.started": "2023-07-17T12:48:10.295720Z"
    }
   },
   "outputs": [],
   "source": [
    "# Get indices in original dataframe\n",
    "def get_idxs(df, words_pos, words_neg=[], ret_names=True, idxs_pos=None):\n",
    "    \"\"\"\n",
    "    Returns column indices, or both column indices and names\n",
    "    Input: dataframe, body_name, words/letters to exclude, get names or not, exact positions to get \n",
    "    \"\"\"\n",
    "    idxs = []\n",
    "    names = []\n",
    "    for w in words_pos:\n",
    "        for col_idx, col in enumerate(example_parquet_df.columns):\n",
    "            # Exclude Non Landmark Columns\n",
    "            if col in ['frame']:\n",
    "                continue\n",
    "                \n",
    "            col_idx = int(col.split('_')[-1])\n",
    "            # Check if column name contains all words\n",
    "            if (w in col) and (idxs_pos is None or col_idx in idxs_pos) and all([w not in col for w in words_neg]):\n",
    "                idxs.append(col_idx)\n",
    "                names.append(col)\n",
    "    # Convert to Numpy arrays\n",
    "    idxs = np.array(idxs)\n",
    "    names = np.array(names)\n",
    "    # Returns either both column indices and names\n",
    "    if ret_names:\n",
    "        return idxs, names\n",
    "    # Or only columns indices\n",
    "    else:\n",
    "        return idxs"
   ]
  },
  {
   "cell_type": "code",
   "execution_count": 18,
   "metadata": {
    "execution": {
     "iopub.execute_input": "2023-07-17T12:48:10.309914Z",
     "iopub.status.busy": "2023-07-17T12:48:10.309157Z",
     "iopub.status.idle": "2023-07-17T12:48:10.324879Z",
     "shell.execute_reply": "2023-07-17T12:48:10.323627Z",
     "shell.execute_reply.started": "2023-07-17T12:48:10.309877Z"
    }
   },
   "outputs": [
    {
     "name": "stdout",
     "output_type": "stream",
     "text": [
      "N_COLS0: 164\n"
     ]
    }
   ],
   "source": [
    "# Lips Landmark Face Ids\n",
    "# #AM we could try adding more face landmarks.\n",
    "LIPS_LANDMARK_IDXS = np.array([\n",
    "        61, 185, 40, 39, 37, 0, 267, 269, 270, 409,\n",
    "        291, 146, 91, 181, 84, 17, 314, 405, 321, 375,\n",
    "        78, 191, 80, 81, 82, 13, 312, 311, 310, 415,\n",
    "        95, 88, 178, 87, 14, 317, 402, 318, 324, 308,\n",
    "    ])\n",
    "\n",
    "# Landmark Indices for Left/Right hand without z axis in raw data\n",
    "LEFT_HAND_IDXS0, LEFT_HAND_NAMES0 = get_idxs(example_parquet_df, ['left_hand'], ['z'])\n",
    "RIGHT_HAND_IDXS0, RIGHT_HAND_NAMES0 = get_idxs(example_parquet_df, ['right_hand'], ['z'])\n",
    "LIPS_IDXS0, LIPS_NAMES0 = get_idxs(example_parquet_df, ['face'], ['z'], idxs_pos=LIPS_LANDMARK_IDXS)\n",
    "COLUMNS0 = np.concatenate((LEFT_HAND_NAMES0, RIGHT_HAND_NAMES0, LIPS_NAMES0))\n",
    "N_COLS0 = len(COLUMNS0)\n",
    "# Only X/Y axes are used\n",
    "N_DIMS0 = 2\n",
    "\n",
    "print(f'N_COLS0: {N_COLS0}')"
   ]
  },
  {
   "cell_type": "code",
   "execution_count": 19,
   "metadata": {
    "execution": {
     "iopub.execute_input": "2023-07-17T12:48:10.327037Z",
     "iopub.status.busy": "2023-07-17T12:48:10.326226Z",
     "iopub.status.idle": "2023-07-17T12:48:10.338348Z",
     "shell.execute_reply": "2023-07-17T12:48:10.337136Z",
     "shell.execute_reply.started": "2023-07-17T12:48:10.326998Z"
    }
   },
   "outputs": [
    {
     "name": "stdout",
     "output_type": "stream",
     "text": [
      "N_COLS: 164\n"
     ]
    }
   ],
   "source": [
    "# Landmark Indices in subset of dataframe with only COLUMNS selected\n",
    "LEFT_HAND_IDXS = np.argwhere(np.isin(COLUMNS0, LEFT_HAND_NAMES0)).squeeze()\n",
    "RIGHT_HAND_IDXS = np.argwhere(np.isin(COLUMNS0, RIGHT_HAND_NAMES0)).squeeze()\n",
    "LIPS_IDXS = np.argwhere(np.isin(COLUMNS0, LIPS_NAMES0)).squeeze()\n",
    "HAND_IDXS = np.concatenate((LEFT_HAND_IDXS, RIGHT_HAND_IDXS), axis=0)\n",
    "N_COLS = N_COLS0\n",
    "# Only X/Y axes are used\n",
    "N_DIMS = 2\n",
    "\n",
    "print(f'N_COLS: {N_COLS}')"
   ]
  },
  {
   "cell_type": "code",
   "execution_count": 20,
   "metadata": {
    "execution": {
     "iopub.execute_input": "2023-07-17T12:48:10.340616Z",
     "iopub.status.busy": "2023-07-17T12:48:10.340167Z",
     "iopub.status.idle": "2023-07-17T12:48:10.353304Z",
     "shell.execute_reply": "2023-07-17T12:48:10.352075Z",
     "shell.execute_reply.started": "2023-07-17T12:48:10.340569Z"
    }
   },
   "outputs": [
    {
     "data": {
      "text/plain": [
       "((21,), (21,))"
      ]
     },
     "execution_count": 20,
     "metadata": {},
     "output_type": "execute_result"
    }
   ],
   "source": [
    "# Indices in processed data by axes with only dominant hand\n",
    "HAND_X_IDXS = np.array(\n",
    "        [idx for idx, name in enumerate(LEFT_HAND_NAMES0) if 'x' in name]\n",
    "    ).squeeze()\n",
    "HAND_Y_IDXS = np.array(\n",
    "        [idx for idx, name in enumerate(LEFT_HAND_NAMES0) if 'y' in name]\n",
    "    ).squeeze()\n",
    "# Names in processed data by axes\n",
    "HAND_X_NAMES = LEFT_HAND_NAMES0[HAND_X_IDXS]\n",
    "HAND_Y_NAMES = LEFT_HAND_NAMES0[HAND_Y_IDXS]\n",
    "HAND_X_NAMES.shape, HAND_Y_NAMES.shape"
   ]
  },
  {
   "cell_type": "code",
   "execution_count": 21,
   "metadata": {
    "execution": {
     "iopub.execute_input": "2023-07-17T12:48:10.355593Z",
     "iopub.status.busy": "2023-07-17T12:48:10.355096Z",
     "iopub.status.idle": "2023-07-17T12:48:10.383029Z",
     "shell.execute_reply": "2023-07-17T12:48:10.381793Z",
     "shell.execute_reply.started": "2023-07-17T12:48:10.355556Z"
    }
   },
   "outputs": [
    {
     "data": {
      "text/html": [
       "<div>\n",
       "<style scoped>\n",
       "    .dataframe tbody tr th:only-of-type {\n",
       "        vertical-align: middle;\n",
       "    }\n",
       "\n",
       "    .dataframe tbody tr th {\n",
       "        vertical-align: top;\n",
       "    }\n",
       "\n",
       "    .dataframe thead th {\n",
       "        text-align: right;\n",
       "    }\n",
       "</style>\n",
       "<table border=\"1\" class=\"dataframe\">\n",
       "  <thead>\n",
       "    <tr style=\"text-align: right;\">\n",
       "      <th></th>\n",
       "      <th>0</th>\n",
       "      <th>1</th>\n",
       "      <th>2</th>\n",
       "      <th>3</th>\n",
       "      <th>4</th>\n",
       "      <th>5</th>\n",
       "      <th>6</th>\n",
       "      <th>7</th>\n",
       "      <th>8</th>\n",
       "      <th>9</th>\n",
       "      <th>...</th>\n",
       "      <th>154</th>\n",
       "      <th>155</th>\n",
       "      <th>156</th>\n",
       "      <th>157</th>\n",
       "      <th>158</th>\n",
       "      <th>159</th>\n",
       "      <th>160</th>\n",
       "      <th>161</th>\n",
       "      <th>162</th>\n",
       "      <th>163</th>\n",
       "    </tr>\n",
       "  </thead>\n",
       "  <tbody>\n",
       "    <tr>\n",
       "      <th>columns</th>\n",
       "      <td>x_left_hand_0</td>\n",
       "      <td>x_left_hand_1</td>\n",
       "      <td>x_left_hand_2</td>\n",
       "      <td>x_left_hand_3</td>\n",
       "      <td>x_left_hand_4</td>\n",
       "      <td>x_left_hand_5</td>\n",
       "      <td>x_left_hand_6</td>\n",
       "      <td>x_left_hand_7</td>\n",
       "      <td>x_left_hand_8</td>\n",
       "      <td>x_left_hand_9</td>\n",
       "      <td>...</td>\n",
       "      <td>y_face_314</td>\n",
       "      <td>y_face_317</td>\n",
       "      <td>y_face_318</td>\n",
       "      <td>y_face_321</td>\n",
       "      <td>y_face_324</td>\n",
       "      <td>y_face_375</td>\n",
       "      <td>y_face_402</td>\n",
       "      <td>y_face_405</td>\n",
       "      <td>y_face_409</td>\n",
       "      <td>y_face_415</td>\n",
       "    </tr>\n",
       "  </tbody>\n",
       "</table>\n",
       "<p>1 rows × 164 columns</p>\n",
       "</div>"
      ],
      "text/plain": [
       "                   0              1              2              3    \\\n",
       "columns  x_left_hand_0  x_left_hand_1  x_left_hand_2  x_left_hand_3   \n",
       "\n",
       "                   4              5              6              7    \\\n",
       "columns  x_left_hand_4  x_left_hand_5  x_left_hand_6  x_left_hand_7   \n",
       "\n",
       "                   8              9    ...         154         155  \\\n",
       "columns  x_left_hand_8  x_left_hand_9  ...  y_face_314  y_face_317   \n",
       "\n",
       "                156         157         158         159         160  \\\n",
       "columns  y_face_318  y_face_321  y_face_324  y_face_375  y_face_402   \n",
       "\n",
       "                161         162         163  \n",
       "columns  y_face_405  y_face_409  y_face_415  \n",
       "\n",
       "[1 rows x 164 columns]"
      ]
     },
     "execution_count": 21,
     "metadata": {},
     "output_type": "execute_result"
    }
   ],
   "source": [
    "pd.Series(COLUMNS0).to_frame('columns').T"
   ]
  },
  {
   "cell_type": "code",
   "execution_count": 22,
   "metadata": {
    "execution": {
     "iopub.execute_input": "2023-07-17T12:48:10.387138Z",
     "iopub.status.busy": "2023-07-17T12:48:10.386064Z",
     "iopub.status.idle": "2023-07-17T12:48:10.401345Z",
     "shell.execute_reply": "2023-07-17T12:48:10.400469Z",
     "shell.execute_reply.started": "2023-07-17T12:48:10.387086Z"
    }
   },
   "outputs": [],
   "source": [
    "# Mean/Standard Deviations of data used for normalizing\n",
    "MEANS = np.load('/kaggle/input/aslfr-preprocessing-dataset/MEANS.npy').reshape(-1)\n",
    "STDS = np.load('/kaggle/input/aslfr-preprocessing-dataset/STDS.npy').reshape(-1)"
   ]
  },
  {
   "cell_type": "markdown",
   "metadata": {},
   "source": [
    "# Tensorflow Preprocessing Layer"
   ]
  },
  {
   "cell_type": "code",
   "execution_count": 23,
   "metadata": {
    "execution": {
     "iopub.execute_input": "2023-07-17T12:48:10.403943Z",
     "iopub.status.busy": "2023-07-17T12:48:10.403225Z",
     "iopub.status.idle": "2023-07-17T12:48:13.968887Z",
     "shell.execute_reply": "2023-07-17T12:48:13.967775Z",
     "shell.execute_reply.started": "2023-07-17T12:48:10.403903Z"
    }
   },
   "outputs": [],
   "source": [
    "\"\"\"\n",
    "    Tensorflow layer to process data in TFLite\n",
    "    Data needs to be processed in the model itself, so we can not use Python\n",
    "\"\"\" \n",
    "class PreprocessLayer(tf.keras.layers.Layer):\n",
    "    def __init__(self):\n",
    "        super(PreprocessLayer, self).__init__()\n",
    "        self.normalisation_correction = tf.constant(\n",
    "                    # Add 0.50 to x coordinates of left hand (original right hand) and substract 0.50 of right hand (original left hand)\n",
    "                     [0.50 if 'x' in name else 0.00 for name in LEFT_HAND_NAMES0],\n",
    "                dtype=tf.float32,\n",
    "            )\n",
    "    \n",
    "    @tf.function(\n",
    "        input_signature=(tf.TensorSpec(shape=[None,N_COLS0], dtype=tf.float32),),\n",
    "    )\n",
    "    def call(self, data0, resize=True):\n",
    "        # Fill NaN Values With 0\n",
    "        data = tf.where(tf.math.is_nan(data0), 0.0, data0)\n",
    "        \n",
    "        # Hacky\n",
    "        data = data[None]\n",
    "        \n",
    "        # Empty Hand Frame Filtering\n",
    "        hands = tf.slice(data, [0,0,0], [-1, -1, 84])\n",
    "        hands = tf.abs(hands)\n",
    "        mask = tf.reduce_sum(hands, axis=2)\n",
    "        mask = tf.not_equal(mask, 0)\n",
    "        data = data[mask][None]\n",
    "        \n",
    "        # Pad Zeros\n",
    "        N_FRAMES = len(data[0])\n",
    "        if N_FRAMES < N_TARGET_FRAMES:\n",
    "            data = tf.concat((\n",
    "                data,\n",
    "                tf.zeros([1,N_TARGET_FRAMES-N_FRAMES,N_COLS], dtype=tf.float32)\n",
    "            ), axis=1)\n",
    "        # Downsample\n",
    "        data = tf.image.resize(\n",
    "            data,\n",
    "            [1, N_TARGET_FRAMES],\n",
    "            method=tf.image.ResizeMethod.BILINEAR,\n",
    "        )\n",
    "        \n",
    "        # Squeeze Batch Dimension\n",
    "        data = tf.squeeze(data, axis=[0])\n",
    "        \n",
    "        return data\n",
    "    \n",
    "preprocess_layer = PreprocessLayer()\n",
    "\n"
   ]
  },
  {
   "cell_type": "code",
   "execution_count": 24,
   "metadata": {
    "execution": {
     "iopub.execute_input": "2023-07-17T12:48:13.977544Z",
     "iopub.status.busy": "2023-07-17T12:48:13.974437Z",
     "iopub.status.idle": "2023-07-17T12:48:14.555840Z",
     "shell.execute_reply": "2023-07-17T12:48:14.554815Z",
     "shell.execute_reply.started": "2023-07-17T12:48:13.977477Z"
    }
   },
   "outputs": [
    {
     "name": "stdout",
     "output_type": "stream",
     "text": [
      "demo_raw_data shape: (159, 164)\n",
      "data shape: (128, 164)\n"
     ]
    }
   ],
   "source": [
    "# Function To Test Preprocessing Layer\n",
    "def test_preprocess_layer():\n",
    "    demo_sequence_id = example_parquet_df.index.unique()[15]\n",
    "    demo_raw_data = example_parquet_df.loc[demo_sequence_id, COLUMNS0]\n",
    "    data = preprocess_layer(demo_raw_data)\n",
    "\n",
    "    print(f'demo_raw_data shape: {demo_raw_data.shape}')\n",
    "    print(f'data shape: {data.shape}')\n",
    "    \n",
    "    return data\n",
    "    \n",
    "if IS_INTERACTIVE:\n",
    "    data = test_preprocess_layer()"
   ]
  },
  {
   "cell_type": "code",
   "execution_count": 25,
   "metadata": {
    "execution": {
     "iopub.execute_input": "2023-07-17T12:48:14.563842Z",
     "iopub.status.busy": "2023-07-17T12:48:14.560795Z",
     "iopub.status.idle": "2023-07-17T12:48:14.573676Z",
     "shell.execute_reply": "2023-07-17T12:48:14.572575Z",
     "shell.execute_reply.started": "2023-07-17T12:48:14.563790Z"
    }
   },
   "outputs": [],
   "source": [
    "def get_train_dataset(X, y, batch_size=BATCH_SIZE):\n",
    "    sample_idxs = np.arange(len(X))\n",
    "    while True:\n",
    "        # Get random indices\n",
    "        random_sample_idxs = np.random.choice(sample_idxs, batch_size)\n",
    "        \n",
    "        inputs = {\n",
    "            'frames': X[random_sample_idxs],\n",
    "            'phrase': y[random_sample_idxs],\n",
    "        }\n",
    "        outputs = y[random_sample_idxs]\n",
    "        \n",
    "        yield inputs, outputs"
   ]
  },
  {
   "cell_type": "code",
   "execution_count": 26,
   "metadata": {
    "execution": {
     "iopub.execute_input": "2023-07-17T12:48:14.580905Z",
     "iopub.status.busy": "2023-07-17T12:48:14.578376Z",
     "iopub.status.idle": "2023-07-17T12:48:14.591870Z",
     "shell.execute_reply": "2023-07-17T12:48:14.590778Z",
     "shell.execute_reply.started": "2023-07-17T12:48:14.580869Z"
    }
   },
   "outputs": [],
   "source": [
    "# Train Dataset\n",
    "train_dataset = get_train_dataset(X_train, y_train)"
   ]
  },
  {
   "cell_type": "code",
   "execution_count": 27,
   "metadata": {
    "execution": {
     "iopub.execute_input": "2023-07-17T12:48:14.597466Z",
     "iopub.status.busy": "2023-07-17T12:48:14.595974Z",
     "iopub.status.idle": "2023-07-17T12:48:14.606235Z",
     "shell.execute_reply": "2023-07-17T12:48:14.605185Z",
     "shell.execute_reply.started": "2023-07-17T12:48:14.597428Z"
    }
   },
   "outputs": [
    {
     "name": "stdout",
     "output_type": "stream",
     "text": [
      "TRAIN_STEPS_PER_EPOCH: 678\n"
     ]
    }
   ],
   "source": [
    "# Training Steps Per Epoch\n",
    "TRAIN_STEPS_PER_EPOCH = math.ceil(N_TRAIN_SAMPLES / BATCH_SIZE)\n",
    "print(f'TRAIN_STEPS_PER_EPOCH: {TRAIN_STEPS_PER_EPOCH}')"
   ]
  },
  {
   "cell_type": "markdown",
   "metadata": {},
   "source": [
    "Calidatioin"
   ]
  },
  {
   "cell_type": "code",
   "execution_count": 28,
   "metadata": {
    "execution": {
     "iopub.execute_input": "2023-07-17T12:48:14.626594Z",
     "iopub.status.busy": "2023-07-17T12:48:14.624027Z",
     "iopub.status.idle": "2023-07-17T12:48:14.636040Z",
     "shell.execute_reply": "2023-07-17T12:48:14.634903Z",
     "shell.execute_reply.started": "2023-07-17T12:48:14.626556Z"
    }
   },
   "outputs": [],
   "source": [
    "# Validation Set\n",
    "def get_val_dataset(X, y, batch_size=BATCH_SIZE):\n",
    "    offsets = np.arange(0, len(X), batch_size)\n",
    "    while True:\n",
    "        # Iterate over whole validation set\n",
    "        for offset in offsets:\n",
    "            inputs = {\n",
    "                'frames': X[offset:offset+batch_size],\n",
    "                'phrase': y[offset:offset+batch_size],\n",
    "            }\n",
    "            outputs = y[offset:offset+batch_size]\n",
    "\n",
    "            yield inputs, outputs"
   ]
  },
  {
   "cell_type": "code",
   "execution_count": 29,
   "metadata": {
    "execution": {
     "iopub.execute_input": "2023-07-17T12:48:14.644602Z",
     "iopub.status.busy": "2023-07-17T12:48:14.641706Z",
     "iopub.status.idle": "2023-07-17T12:48:14.655172Z",
     "shell.execute_reply": "2023-07-17T12:48:14.654151Z",
     "shell.execute_reply.started": "2023-07-17T12:48:14.644562Z"
    }
   },
   "outputs": [
    {
     "name": "stdout",
     "output_type": "stream",
     "text": [
      "True\n"
     ]
    }
   ],
   "source": [
    "# Validation Dataset\n",
    "print(USE_VAL)\n",
    "if USE_VAL:\n",
    "    val_dataset = get_val_dataset(X_val, y_val)\n",
    "    "
   ]
  },
  {
   "cell_type": "code",
   "execution_count": 30,
   "metadata": {
    "execution": {
     "iopub.execute_input": "2023-07-17T12:48:14.660629Z",
     "iopub.status.busy": "2023-07-17T12:48:14.659854Z",
     "iopub.status.idle": "2023-07-17T12:48:14.670224Z",
     "shell.execute_reply": "2023-07-17T12:48:14.669077Z",
     "shell.execute_reply.started": "2023-07-17T12:48:14.660594Z"
    }
   },
   "outputs": [
    {
     "name": "stdout",
     "output_type": "stream",
     "text": [
      "N_VAL_STEPS_PER_EPOCH: 146\n"
     ]
    }
   ],
   "source": [
    "if USE_VAL:\n",
    "    N_VAL_STEPS_PER_EPOCH = math.ceil(N_VAL_SAMPLES / BATCH_SIZE)\n",
    "    print(f'N_VAL_STEPS_PER_EPOCH: {N_VAL_STEPS_PER_EPOCH}')"
   ]
  },
  {
   "cell_type": "markdown",
   "metadata": {},
   "source": [
    "# Model Config"
   ]
  },
  {
   "cell_type": "code",
   "execution_count": 31,
   "metadata": {
    "execution": {
     "iopub.execute_input": "2023-07-17T12:48:14.672939Z",
     "iopub.status.busy": "2023-07-17T12:48:14.672118Z",
     "iopub.status.idle": "2023-07-17T12:48:14.689915Z",
     "shell.execute_reply": "2023-07-17T12:48:14.688923Z",
     "shell.execute_reply.started": "2023-07-17T12:48:14.672904Z"
    }
   },
   "outputs": [],
   "source": [
    "\n",
    "# Epsilon value for layer normalisation\n",
    "LAYER_NORM_EPS = 1e-6\n",
    "\n",
    "# final embedding and transformer embedding size\n",
    "UNITS_ENCODER = 384\n",
    "UNITS_DECODER = 256\n",
    "\n",
    "# Transformer\n",
    "NUM_BLOCKS_ENCODER = 3\n",
    "NUM_BLOCKS_DECODER = 2\n",
    "NUM_HEADS = 4\n",
    "MLP_RATIO = 2\n",
    "\n",
    "# Dropout\n",
    "EMBEDDING_DROPOUT = 0.00\n",
    "MLP_DROPOUT_RATIO = 0.30\n",
    "MHA_DROPOUT_RATIO = 0.20\n",
    "CLASSIFIER_DROPOUT_RATIO = 0.10\n",
    "\n",
    "# Initiailizers\n",
    "INIT_HE_UNIFORM = tf.keras.initializers.he_uniform\n",
    "INIT_GLOROT_UNIFORM = tf.keras.initializers.glorot_uniform\n",
    "INIT_ZEROS = tf.keras.initializers.constant(0.0)\n",
    "# Activations\n",
    "GELU = tf.keras.activations.gelu\n",
    "\n",
    "# Learning Rate\n",
    "LEARNING_RATE = 1e-4"
   ]
  },
  {
   "cell_type": "markdown",
   "metadata": {},
   "source": [
    "# Landmarks Embedding "
   ]
  },
  {
   "cell_type": "code",
   "execution_count": 32,
   "metadata": {
    "execution": {
     "iopub.execute_input": "2023-07-17T12:48:14.694840Z",
     "iopub.status.busy": "2023-07-17T12:48:14.693187Z",
     "iopub.status.idle": "2023-07-17T12:48:14.714255Z",
     "shell.execute_reply": "2023-07-17T12:48:14.713013Z",
     "shell.execute_reply.started": "2023-07-17T12:48:14.694802Z"
    }
   },
   "outputs": [],
   "source": [
    "# Embeds a landmark using fully connected layers\n",
    "class LandmarkEmbedding(tf.keras.Model):\n",
    "    def __init__(self, units, name):\n",
    "        super(LandmarkEmbedding, self).__init__(name=f'{name}_embedding')\n",
    "        self.units = units\n",
    "        self.supports_masking = True\n",
    "        \n",
    "    def build(self, input_shape):\n",
    "        # Embedding for missing landmark in frame, initizlied with zeros\n",
    "        self.empty_embedding = self.add_weight(\n",
    "            name=f'{self.name}_empty_embedding',\n",
    "            shape=[self.units],\n",
    "            initializer=INIT_ZEROS,\n",
    "        )\n",
    "        # Embedding\n",
    "        self.dense = tf.keras.Sequential([\n",
    "            tf.keras.layers.Dense(self.units, name=f'{self.name}_dense_1', use_bias=False, kernel_initializer=INIT_GLOROT_UNIFORM, activation=GELU), # Can change activation\n",
    "            tf.keras.layers.Dense(self.units, name=f'{self.name}_dense_2', use_bias=False, kernel_initializer=INIT_HE_UNIFORM),\n",
    "        ], name=f'{self.name}_dense')\n",
    "\n",
    "    def call(self, x):\n",
    "        return tf.where(\n",
    "                # Checks whether landmark is missing in frame\n",
    "                tf.reduce_sum(x, axis=2, keepdims=True) == 0,\n",
    "                # If so, the empty embedding is used\n",
    "                self.empty_embedding,\n",
    "                # Otherwise the landmark data is embedded\n",
    "                self.dense(x),\n",
    "            )"
   ]
  },
  {
   "cell_type": "markdown",
   "metadata": {},
   "source": [
    "# Embedding"
   ]
  },
  {
   "cell_type": "code",
   "execution_count": 33,
   "metadata": {
    "execution": {
     "iopub.execute_input": "2023-07-17T12:48:14.722558Z",
     "iopub.status.busy": "2023-07-17T12:48:14.719537Z",
     "iopub.status.idle": "2023-07-17T12:48:14.734789Z",
     "shell.execute_reply": "2023-07-17T12:48:14.733401Z",
     "shell.execute_reply.started": "2023-07-17T12:48:14.722521Z"
    }
   },
   "outputs": [],
   "source": [
    "# Creates embedding for each frame\n",
    "class Embedding(tf.keras.Model):\n",
    "    def __init__(self):\n",
    "        super(Embedding, self).__init__()\n",
    "        self.supports_masking = True\n",
    "    \n",
    "    def build(self, input_shape):\n",
    "        # Positional embedding for each frame index\n",
    "        self.positional_embedding = tf.Variable(\n",
    "            initial_value=tf.zeros([N_TARGET_FRAMES, UNITS_ENCODER], dtype=tf.float32),\n",
    "            trainable=True,\n",
    "            name='embedding_positional_encoder',\n",
    "        )\n",
    "        # Embedding layer for Landmarks\n",
    "        self.dominant_hand_embedding = LandmarkEmbedding(UNITS_ENCODER, 'dominant_hand')\n",
    "\n",
    "    def call(self, x, training=False):\n",
    "        # Normalize\n",
    "        x = tf.where(\n",
    "                tf.math.equal(x, 0.0),\n",
    "                0.0,\n",
    "                (x - MEANS) / STDS,\n",
    "            )\n",
    "        # Dominant Hand\n",
    "        x = self.dominant_hand_embedding(x)\n",
    "        # Add Positional Encoding\n",
    "        x = x + self.positional_embedding\n",
    "        \n",
    "        return x"
   ]
  },
  {
   "cell_type": "markdown",
   "metadata": {},
   "source": [
    "# MultiHead Attention Block"
   ]
  },
  {
   "cell_type": "code",
   "execution_count": 34,
   "metadata": {
    "execution": {
     "iopub.execute_input": "2023-07-17T12:48:14.743607Z",
     "iopub.status.busy": "2023-07-17T12:48:14.740522Z",
     "iopub.status.idle": "2023-07-17T12:48:14.765103Z",
     "shell.execute_reply": "2023-07-17T12:48:14.763925Z",
     "shell.execute_reply.started": "2023-07-17T12:48:14.743571Z"
    }
   },
   "outputs": [],
   "source": [
    "# replaced softmax with softmax layer to support masked softmax\n",
    "def scaled_dot_product(q,k,v, softmax, attention_mask):\n",
    "    #calculates Q . K(transpose)\n",
    "    qkt = tf.matmul(q,k,transpose_b=True)\n",
    "    #caculates scaling factor\n",
    "    dk = tf.math.sqrt(tf.cast(q.shape[-1],dtype=tf.float32))\n",
    "    scaled_qkt = qkt/dk\n",
    "    softmax = softmax(scaled_qkt, mask=attention_mask)\n",
    "    z = tf.matmul(softmax,v)\n",
    "    #shape: (m,Tx,depth), same shape as q,k,v\n",
    "    return z\n",
    "\n",
    "class MultiHeadAttention(tf.keras.layers.Layer):\n",
    "    def __init__(self,d_model, num_of_heads, dropout, d_out=None):\n",
    "        super(MultiHeadAttention,self).__init__()\n",
    "        self.d_model = d_model\n",
    "        self.num_of_heads = num_of_heads\n",
    "        self.depth = d_model//num_of_heads # Can change\n",
    "        self.wq = [tf.keras.layers.Dense(self.depth//2, use_bias=False) for i in range(num_of_heads)] # depth//2 isn't common, we can try different numbers\n",
    "        self.wk = [tf.keras.layers.Dense(self.depth//2, use_bias=False) for i in range(num_of_heads)]\n",
    "        self.wv = [tf.keras.layers.Dense(self.depth//2, use_bias=False) for i in range(num_of_heads)]\n",
    "        self.softmax = tf.keras.layers.Softmax()\n",
    "        self.do = tf.keras.layers.Dropout(dropout)\n",
    "        self.supports_masking = True\n",
    "        self.wo = tf.keras.layers.Dense(d_model if d_out is None else d_out, use_bias=False)\n",
    "        \n",
    "    def call(self, q, k, v, attention_mask=None, training=False):\n",
    "        \n",
    "        multi_attn = []\n",
    "        for i in range(self.num_of_heads):\n",
    "            Q = self.wq[i](q)\n",
    "            K = self.wk[i](k)\n",
    "            V = self.wv[i](v)\n",
    "            multi_attn.append(scaled_dot_product(Q,K,V, self.softmax, attention_mask))\n",
    "            \n",
    "        multi_head = tf.concat(multi_attn, axis=-1)\n",
    "        multi_head_attention = self.wo(multi_head)\n",
    "        multi_head_attention = self.do(multi_head_attention, training=training)\n",
    "        \n",
    "        return multi_head_attention"
   ]
  },
  {
   "cell_type": "code",
   "execution_count": 35,
   "metadata": {
    "execution": {
     "iopub.execute_input": "2023-07-17T12:48:14.774186Z",
     "iopub.status.busy": "2023-07-17T12:48:14.770865Z",
     "iopub.status.idle": "2023-07-17T12:48:14.787751Z",
     "shell.execute_reply": "2023-07-17T12:48:14.786477Z",
     "shell.execute_reply.started": "2023-07-17T12:48:14.774147Z"
    }
   },
   "outputs": [],
   "source": [
    "class EncoderTransformerBlock(tf.keras.layers.Layer):\n",
    "    def __init__(self, units, num_heads, mlp_ratio, mha_dropout_ratio, mlp_dropout_ratio, **kwargs):\n",
    "        super(EncoderTransformerBlock, self).__init__(**kwargs)\n",
    "        self.layer_norm_1 = tf.keras.layers.LayerNormalization(epsilon=LAYER_NORM_EPS)\n",
    "        self.mha = MultiHeadAttention(units, num_heads, mha_dropout_ratio)\n",
    "        self.layer_norm_2 = tf.keras.layers.LayerNormalization(epsilon=LAYER_NORM_EPS)\n",
    "        self.mlp = tf.keras.Sequential([\n",
    "            tf.keras.layers.Dense(units * mlp_ratio, activation=GELU, kernel_initializer=INIT_GLOROT_UNIFORM, use_bias=False),\n",
    "            tf.keras.layers.Dropout(mlp_dropout_ratio),\n",
    "            tf.keras.layers.Dense(units, kernel_initializer=INIT_HE_UNIFORM, use_bias=False),\n",
    "        ])\n",
    "\n",
    "    def call(self, inputs, attention_mask, training=False):\n",
    "        x = self.layer_norm_1(inputs + self.mha(inputs, inputs, inputs, attention_mask=attention_mask))\n",
    "        x = self.layer_norm_2(x + self.mlp(x))\n",
    "        return x\n"
   ]
  },
  {
   "cell_type": "markdown",
   "metadata": {},
   "source": [
    "# Encoder"
   ]
  },
  {
   "cell_type": "code",
   "execution_count": 36,
   "metadata": {
    "execution": {
     "iopub.execute_input": "2023-07-17T12:48:14.797046Z",
     "iopub.status.busy": "2023-07-17T12:48:14.793741Z",
     "iopub.status.idle": "2023-07-17T12:48:14.812403Z",
     "shell.execute_reply": "2023-07-17T12:48:14.811316Z",
     "shell.execute_reply.started": "2023-07-17T12:48:14.797008Z"
    }
   },
   "outputs": [],
   "source": [
    "class Encoder(tf.keras.Model):\n",
    "    def __init__(self, num_blocks):\n",
    "        super(Encoder, self).__init__(name='encoder')\n",
    "        self.num_blocks = num_blocks\n",
    "        self.support_masking = True\n",
    "        self.blocks = [EncoderTransformerBlock(UNITS_ENCODER, NUM_HEADS, MLP_RATIO, MHA_DROPOUT_RATIO, MLP_DROPOUT_RATIO) for _ in range(num_blocks)]\n",
    "\n",
    "        # Optional Projection to Decoder Dimension\n",
    "        if UNITS_ENCODER != UNITS_DECODER:\n",
    "            self.dense_out = tf.keras.layers.Dense(UNITS_DECODER, kernel_initializer=INIT_GLOROT_UNIFORM, use_bias=False)\n",
    "            self.apply_dense_out = True\n",
    "        else:\n",
    "            self.apply_dense_out = False\n",
    "\n",
    "    def call(self, x, x_inp, training=False):\n",
    "        #Attention mask to ignore missing frames\n",
    "        attention_mask = tf.where(tf.math.reduce_sum(x_inp, axis=[2]) == 0.0, 0.0, 1.0)\n",
    "        attention_mask = tf.expand_dims(attention_mask, axis=1)\n",
    "        attention_mask = tf.repeat(attention_mask, repeats=N_TARGET_FRAMES, axis=1)\n",
    "        \n",
    "        # Iterate input over transformer blocks\n",
    "        for block in self.blocks:\n",
    "            x = block(x, attention_mask=attention_mask, training=training)\n",
    "            \n",
    "        # Optional Projection to Decoder Dimension\n",
    "        if self.apply_dense_out:\n",
    "            x = self.dense_out(x)\n",
    "    \n",
    "        return x\n"
   ]
  },
  {
   "cell_type": "markdown",
   "metadata": {},
   "source": [
    "# Decoder Transformer\n"
   ]
  },
  {
   "cell_type": "code",
   "execution_count": 37,
   "metadata": {
    "execution": {
     "iopub.execute_input": "2023-07-17T12:48:14.821770Z",
     "iopub.status.busy": "2023-07-17T12:48:14.818296Z",
     "iopub.status.idle": "2023-07-17T12:48:14.836396Z",
     "shell.execute_reply": "2023-07-17T12:48:14.835123Z",
     "shell.execute_reply.started": "2023-07-17T12:48:14.821722Z"
    }
   },
   "outputs": [],
   "source": [
    "class DecoderTransformerBlock(tf.keras.layers.Layer):\n",
    "    def __init__(self, units, num_heads, mlp_ratio, mha_dropout_ratio, mlp_dropout_ratio, **kwargs):\n",
    "        super(DecoderTransformerBlock, self).__init__(**kwargs)\n",
    "        self.layer_norm_1 = tf.keras.layers.LayerNormalization(epsilon=LAYER_NORM_EPS)\n",
    "        self.mha = MultiHeadAttention(units, num_heads, mha_dropout_ratio)\n",
    "        self.layer_norm_2 = tf.keras.layers.LayerNormalization(epsilon=LAYER_NORM_EPS)\n",
    "        self.mlp = tf.keras.Sequential([\n",
    "            tf.keras.layers.Dense(units * mlp_ratio, activation=GELU, kernel_initializer=INIT_GLOROT_UNIFORM, use_bias=False),\n",
    "            tf.keras.layers.Dropout(mlp_dropout_ratio),\n",
    "            tf.keras.layers.Dense(units, kernel_initializer=INIT_HE_UNIFORM, use_bias=False),\n",
    "        ])\n",
    "\n",
    "    def call(self, inputs, encoder_outputs, attention_mask, training=False):\n",
    "        x = self.layer_norm_1(inputs + self.mha(inputs, encoder_outputs, encoder_outputs, attention_mask=attention_mask))\n",
    "        x = self.layer_norm_2(x + self.mlp(x))\n",
    "        return x\n",
    "    "
   ]
  },
  {
   "cell_type": "markdown",
   "metadata": {},
   "source": [
    "# Decoder"
   ]
  },
  {
   "cell_type": "code",
   "execution_count": 38,
   "metadata": {
    "execution": {
     "iopub.execute_input": "2023-07-17T12:48:14.845638Z",
     "iopub.status.busy": "2023-07-17T12:48:14.842193Z",
     "iopub.status.idle": "2023-07-17T12:48:14.880281Z",
     "shell.execute_reply": "2023-07-17T12:48:14.879155Z",
     "shell.execute_reply.started": "2023-07-17T12:48:14.845595Z"
    }
   },
   "outputs": [
    {
     "data": {
      "text/plain": [
       "<tf.Tensor: shape=(128, 128), dtype=float32, numpy=\n",
       "array([[1., 0., 0., ..., 0., 0., 0.],\n",
       "       [1., 1., 0., ..., 0., 0., 0.],\n",
       "       [1., 1., 1., ..., 0., 0., 0.],\n",
       "       ...,\n",
       "       [1., 1., 1., ..., 1., 0., 0.],\n",
       "       [1., 1., 1., ..., 1., 1., 0.],\n",
       "       [1., 1., 1., ..., 1., 1., 1.]], dtype=float32)>"
      ]
     },
     "execution_count": 38,
     "metadata": {},
     "output_type": "execute_result"
    }
   ],
   "source": [
    "self_attention_mask =tf.ones((N_TARGET_FRAMES, N_TARGET_FRAMES))\n",
    "self_attention_mask = tf.linalg.band_part(self_attention_mask, -1, 0)\n",
    "tf.cast(self_attention_mask, tf.float32)"
   ]
  },
  {
   "cell_type": "code",
   "execution_count": 39,
   "metadata": {
    "execution": {
     "iopub.execute_input": "2023-07-17T12:48:14.888580Z",
     "iopub.status.busy": "2023-07-17T12:48:14.885602Z",
     "iopub.status.idle": "2023-07-17T12:48:14.914642Z",
     "shell.execute_reply": "2023-07-17T12:48:14.913278Z",
     "shell.execute_reply.started": "2023-07-17T12:48:14.888536Z"
    }
   },
   "outputs": [],
   "source": [
    "class Decoder(tf.keras.Model):\n",
    "    def __init__(self, num_blocks):\n",
    "        super(Decoder, self).__init__(name='decoder')\n",
    "        self.num_blocks = num_blocks\n",
    "        self.supports_masking = True\n",
    "\n",
    "        # Positional Embedding, initialized with zeros\n",
    "        self.positional_embedding = tf.Variable(\n",
    "            initial_value=tf.zeros([N_TARGET_FRAMES, UNITS_DECODER], dtype=tf.float32),\n",
    "            trainable=True,\n",
    "            name='embedding_positional_encoder',\n",
    "        )\n",
    "\n",
    "        # Character Embedding\n",
    "        self.char_emb = tf.keras.layers.Embedding(N_UNIQUE_CHARACTERS, UNITS_DECODER, embeddings_initializer=INIT_ZEROS)\n",
    "        \n",
    "        # Positional Encoder MHA\n",
    "        self.pos_emb_mha = MultiHeadAttention(UNITS_DECODER, NUM_HEADS, MHA_DROPOUT_RATIO)\n",
    "        self.pos_emb_ln = tf.keras.layers.LayerNormalization(epsilon=LAYER_NORM_EPS)\n",
    "\n",
    "        # Decoder Blocks\n",
    "        self.blocks = [DecoderTransformerBlock(UNITS_DECODER, NUM_HEADS, MLP_RATIO, MHA_DROPOUT_RATIO,MLP_DROPOUT_RATIO) for _ in range(num_blocks)]\n",
    "\n",
    "    def get_causal_attention_mask(self, B):\n",
    "        # My version of the mask AM\n",
    "        ones = tf.ones((N_TARGET_FRAMES, N_TARGET_FRAMES))\n",
    "        mask = tf.linalg.band_part(ones, 0, -1)  \n",
    "        mask = tf.transpose(mask)\n",
    "        mask = tf.expand_dims(mask, axis=0)\n",
    "        mask = tf.tile(mask, [B, 1, 1])\n",
    "        mask = tf.cast(mask, tf.float32)\n",
    "        return mask\n",
    "\n",
    "    def call(self, encoder_outputs, phrase, training=False):\n",
    "        # Batch Size\n",
    "        B = tf.shape(encoder_outputs)[0]\n",
    "        # Cast to INT32\n",
    "        phrase = tf.cast(phrase, tf.int32)\n",
    "        # Prepend SOS Token\n",
    "        phrase = tf.pad(phrase, [[0,0], [1,0]], constant_values=SOS_TOKEN, name='prepend_sos_token')\n",
    "        # Pad With PAD Token\n",
    "        phrase = tf.pad(phrase, [[0,0], [0,N_TARGET_FRAMES-MAX_PHRASE_LENGTH-1]], constant_values=PAD_TOKEN, name='append_pad_token')\n",
    "        # Causal Mask\n",
    "        causal_mask = self.get_causal_attention_mask(B)\n",
    "        # Positional Embedding\n",
    "        x = self.positional_embedding + self.char_emb(phrase)\n",
    "        # Causal Attention\n",
    "        x = self.pos_emb_ln(x + self.pos_emb_mha(x, x, x, attention_mask=causal_mask))\n",
    "        # Iterate input over causal_masktransformer blocks\n",
    "        for block in self.blocks:\n",
    "            x = block(x, encoder_outputs, causal_mask, training=training)\n",
    "        # Slice 31 Characters\n",
    "        x = tf.slice(x, [0, 0, 0], [-1, MAX_PHRASE_LENGTH, -1])\n",
    "        return x\n"
   ]
  },
  {
   "cell_type": "markdown",
   "metadata": {},
   "source": [
    "# Non Pad/SOS/EOS Token Accuracy"
   ]
  },
  {
   "cell_type": "markdown",
   "metadata": {},
   "source": [
    "# Sparse Categorical Crossentropy With Label Smoothing"
   ]
  },
  {
   "cell_type": "code",
   "execution_count": 40,
   "metadata": {
    "execution": {
     "iopub.execute_input": "2023-07-17T12:48:14.924186Z",
     "iopub.status.busy": "2023-07-17T12:48:14.921159Z",
     "iopub.status.idle": "2023-07-17T12:48:14.938820Z",
     "shell.execute_reply": "2023-07-17T12:48:14.937438Z",
     "shell.execute_reply.started": "2023-07-17T12:48:14.924147Z"
    }
   },
   "outputs": [],
   "source": [
    "# TopK accuracy for multi dimensional output\n",
    "class TopKAccuracy(tf.keras.metrics.Metric):\n",
    "    def __init__(self, k, **kwargs):\n",
    "        super(TopKAccuracy, self).__init__(name=f'top{k}acc', **kwargs)\n",
    "        self.top_k_acc = tf.keras.metrics.SparseTopKCategoricalAccuracy(k=k)\n",
    "\n",
    "    def update_state(self, y_true, y_pred, sample_weight=None):\n",
    "        y_true = tf.reshape(y_true, [-1])\n",
    "        y_pred = tf.reshape(y_pred, [-1, N_UNIQUE_CHARACTERS])\n",
    "        character_idxs = tf.where(y_true < N_UNIQUE_CHARACTERS0)\n",
    "        y_true = tf.gather(y_true, character_idxs, axis=0)\n",
    "        y_pred = tf.gather(y_pred, character_idxs, axis=0)\n",
    "        self.top_k_acc.update_state(y_true, y_pred)\n",
    "\n",
    "    def result(self):\n",
    "        return self.top_k_acc.result()\n",
    "    \n",
    "    def reset_state(self):\n",
    "        self.top_k_acc.reset_state()"
   ]
  },
  {
   "cell_type": "code",
   "execution_count": 41,
   "metadata": {
    "execution": {
     "iopub.execute_input": "2023-07-17T12:48:14.948107Z",
     "iopub.status.busy": "2023-07-17T12:48:14.944701Z",
     "iopub.status.idle": "2023-07-17T12:48:14.965247Z",
     "shell.execute_reply": "2023-07-17T12:48:14.963922Z",
     "shell.execute_reply.started": "2023-07-17T12:48:14.948062Z"
    }
   },
   "outputs": [],
   "source": [
    "# source:: https://stackoverflow.com/questions/60689185/label-smoothing-for-sparse-categorical-crossentropy\n",
    "\n",
    "class CustomSCCEWithLS(tf.keras.losses.Loss):\n",
    "    def __init__(self, loss_weights, pad_token=PAD_TOKEN, n_unique_characters=N_UNIQUE_CHARACTERS, label_smoothing=0.25, **kwargs):\n",
    "        super().__init__(**kwargs)\n",
    "        self.loss_weights = loss_weights\n",
    "        self.pad_token = pad_token\n",
    "        self.n_unique_characters = n_unique_characters\n",
    "        self.label_smoothing = label_smoothing\n",
    "\n",
    "    def call(self, y_true, y_pred):\n",
    "        # Filter Pad Tokens\n",
    "        idxs = tf.where(y_true != self.pad_token)\n",
    "        y_true = tf.gather_nd(y_true, idxs)\n",
    "        y_pred = tf.gather_nd(y_pred, idxs)\n",
    "        # One Hot Encode Sparsely Encoded Target Sign\n",
    "        y_true = tf.cast(y_true, tf.int32)\n",
    "        y_true = tf.one_hot(y_true, self.n_unique_characters, axis=1)\n",
    "        # Apply loss_weights\n",
    "        y_true = y_true * self.loss_weights\n",
    "        # Categorical Crossentropy with native label smoothing support\n",
    "        loss = tf.keras.losses.categorical_crossentropy(y_true, y_pred, label_smoothing=self.label_smoothing, from_logits=True)\n",
    "        loss = tf.math.reduce_mean(loss)\n",
    "        return loss\n",
    "\n",
    "    def get_config(self):\n",
    "        base_config = super().get_config()\n",
    "        return {**base_config, \"loss_weights\": self.loss_weights.tolist(), \"pad_token\": self.pad_token, \n",
    "                \"n_unique_characters\": self.n_unique_characters, \"label_smoothing\": self.label_smoothing}\n"
   ]
  },
  {
   "cell_type": "markdown",
   "metadata": {},
   "source": [
    "# Model"
   ]
  },
  {
   "cell_type": "code",
   "execution_count": 42,
   "metadata": {
    "execution": {
     "iopub.execute_input": "2023-07-17T12:48:14.974910Z",
     "iopub.status.busy": "2023-07-17T12:48:14.971397Z",
     "iopub.status.idle": "2023-07-17T12:48:14.995536Z",
     "shell.execute_reply": "2023-07-17T12:48:14.994363Z",
     "shell.execute_reply.started": "2023-07-17T12:48:14.974868Z"
    }
   },
   "outputs": [],
   "source": [
    "def get_model():\n",
    "    # Inputs\n",
    "    frames_inp = tf.keras.layers.Input([N_TARGET_FRAMES, N_COLS], dtype=tf.float32, name='frames')\n",
    "    phrase_inp = tf.keras.layers.Input([MAX_PHRASE_LENGTH], dtype=tf.int32, name='phrase')\n",
    "    # Frames\n",
    "    x = frames_inp\n",
    "    \n",
    "    # Masking \n",
    "    x = tf.keras.layers.Masking(mask_value=0.0, input_shape=(N_TARGET_FRAMES, N_COLS))(x)\n",
    "    \n",
    "    # Embedding\n",
    "    x = Embedding()(x)\n",
    "    \n",
    "    # Encoder Transformer Blocks\n",
    "    x = Encoder(NUM_BLOCKS_ENCODER)(x, frames_inp)\n",
    "    \n",
    "    # Decoder\n",
    "    x = Decoder(NUM_BLOCKS_DECODER)(x, phrase_inp)\n",
    "    \n",
    "    # Classifier\n",
    "    x = tf.keras.Sequential([\n",
    "        # Dropout\n",
    "        tf.keras.layers.Dropout(CLASSIFIER_DROPOUT_RATIO),\n",
    "        # Output Neurons\n",
    "        tf.keras.layers.Dense(N_UNIQUE_CHARACTERS, activation=tf.keras.activations.linear, kernel_initializer=INIT_HE_UNIFORM, use_bias=False), # can changes initializer/activation\n",
    "    ], name='classifier')(x)\n",
    "    \n",
    "    outputs = x\n",
    "    \n",
    "    # Create Tensorflow Model\n",
    "    model = tf.keras.models.Model(inputs=[frames_inp, phrase_inp], outputs=outputs)\n",
    "    \n",
    "    #optimizer\n",
    "    optimizer = tf.keras.optimizers.Adam(learning_rate=0.0001) # We should try different optimizers with learning rate scheduler\n",
    "    \n",
    "    # Create Initial Loss Weights All Set To 1\n",
    "    loss_weights_tensor = tf.ones([N_UNIQUE_CHARACTERS], dtype=tf.float32)\n",
    "    # Set Loss Weight Of Pad Token To 0\n",
    "    loss_weights_tensor = tf.tensor_scatter_nd_update(loss_weights_tensor, [[PAD_TOKEN]], [0])\n",
    "\n",
    "    # Convert the tensor to a numpy array\n",
    "    loss_weights = loss_weights_tensor.numpy()\n",
    "\n",
    "    # Categorical Crossentropy Loss With Label Smoothing\n",
    "#     loss = scce_with_ls\n",
    "    loss = CustomSCCEWithLS(loss_weights)\n",
    "\n",
    "    metrics = [\n",
    "        TopKAccuracy(1),\n",
    "        TopKAccuracy(5),\n",
    "    ]\n",
    "    \n",
    "    model.compile(\n",
    "        loss=loss,\n",
    "        optimizer=optimizer,\n",
    "        metrics=metrics,\n",
    "        loss_weights=loss_weights,\n",
    "    )\n",
    "    \n",
    "    return model"
   ]
  },
  {
   "cell_type": "code",
   "execution_count": 43,
   "metadata": {
    "execution": {
     "iopub.execute_input": "2023-07-17T12:48:15.005403Z",
     "iopub.status.busy": "2023-07-17T12:48:15.002040Z",
     "iopub.status.idle": "2023-07-17T12:48:15.017192Z",
     "shell.execute_reply": "2023-07-17T12:48:15.015893Z",
     "shell.execute_reply.started": "2023-07-17T12:48:15.005361Z"
    }
   },
   "outputs": [
    {
     "name": "stdout",
     "output_type": "stream",
     "text": [
      "frames: (1024, 128, 164)\n",
      "phrase: (1024, 32)\n"
     ]
    }
   ],
   "source": [
    "for k, v in X_batch.items():\n",
    "    print(f'{k}: {v.shape}')"
   ]
  },
  {
   "cell_type": "code",
   "execution_count": 44,
   "metadata": {
    "execution": {
     "iopub.execute_input": "2023-07-17T12:48:15.022435Z",
     "iopub.status.busy": "2023-07-17T12:48:15.021559Z",
     "iopub.status.idle": "2023-07-17T12:48:18.905817Z",
     "shell.execute_reply": "2023-07-17T12:48:18.904778Z",
     "shell.execute_reply.started": "2023-07-17T12:48:15.022396Z"
    }
   },
   "outputs": [],
   "source": [
    "tf.keras.backend.clear_session()\n",
    "\n",
    "model = get_model()"
   ]
  },
  {
   "cell_type": "code",
   "execution_count": 45,
   "metadata": {
    "execution": {
     "iopub.execute_input": "2023-07-17T12:48:18.908029Z",
     "iopub.status.busy": "2023-07-17T12:48:18.907625Z",
     "iopub.status.idle": "2023-07-17T12:48:18.966154Z",
     "shell.execute_reply": "2023-07-17T12:48:18.965087Z",
     "shell.execute_reply.started": "2023-07-17T12:48:18.907990Z"
    }
   },
   "outputs": [
    {
     "name": "stdout",
     "output_type": "stream",
     "text": [
      "Model: \"model\"\n",
      "__________________________________________________________________________________________________\n",
      " Layer (type)                   Output Shape         Param #     Connected to                     \n",
      "==================================================================================================\n",
      " frames (InputLayer)            [(None, 128, 164)]   0           []                               \n",
      "                                                                                                  \n",
      " masking (Masking)              (None, 128, 164)     0           ['frames[0][0]']                 \n",
      "                                                                                                  \n",
      " embedding (Embedding)          (None, 128, 384)     259968      ['masking[0][0]']                \n",
      "                                                                                                  \n",
      " encoder (Encoder)              (None, 128, 256)     2757120     ['embedding[0][0]',              \n",
      "                                                                  'frames[0][0]']                 \n",
      "                                                                                                  \n",
      " phrase (InputLayer)            [(None, 32)]         0           []                               \n",
      "                                                                                                  \n",
      " decoder (Decoder)              (None, 32, 256)      968704      ['encoder[0][0]',                \n",
      "                                                                  'phrase[0][0]']                 \n",
      "                                                                                                  \n",
      " classifier (Sequential)        (None, 32, 62)       15872       ['decoder[0][0]']                \n",
      "                                                                                                  \n",
      "==================================================================================================\n",
      "Total params: 4,001,664\n",
      "Trainable params: 4,001,664\n",
      "Non-trainable params: 0\n",
      "__________________________________________________________________________________________________\n"
     ]
    }
   ],
   "source": [
    "model.summary()"
   ]
  },
  {
   "cell_type": "code",
   "execution_count": 46,
   "metadata": {
    "execution": {
     "iopub.execute_input": "2023-07-17T12:48:18.968659Z",
     "iopub.status.busy": "2023-07-17T12:48:18.967913Z",
     "iopub.status.idle": "2023-07-17T12:48:19.074385Z",
     "shell.execute_reply": "2023-07-17T12:48:19.073398Z",
     "shell.execute_reply.started": "2023-07-17T12:48:18.968619Z"
    }
   },
   "outputs": [
    {
     "name": "stdout",
     "output_type": "stream",
     "text": [
      "Model: \"model\"\n",
      "_____________________________________________________________________________________________________________\n",
      " Layer (type)                   Output Shape         Param #     Connected to                     Trainable  \n",
      "=============================================================================================================\n",
      " frames (InputLayer)            [(None, 128, 164)]   0           []                               Y          \n",
      "                                                                                                             \n",
      " masking (Masking)              (None, 128, 164)     0           ['frames[0][0]']                 Y          \n",
      "                                                                                                             \n",
      " embedding (Embedding)          (None, 128, 384)     259968      ['masking[0][0]']                Y          \n",
      "|¯¯¯¯¯¯¯¯¯¯¯¯¯¯¯¯¯¯¯¯¯¯¯¯¯¯¯¯¯¯¯¯¯¯¯¯¯¯¯¯¯¯¯¯¯¯¯¯¯¯¯¯¯¯¯¯¯¯¯¯¯¯¯¯¯¯¯¯¯¯¯¯¯¯¯¯¯¯¯¯¯¯¯¯¯¯¯¯¯¯¯¯¯¯¯¯¯¯¯¯¯¯¯¯¯¯¯|\n",
      "| dominant_hand_embedding (Landm  multiple          210816      []                               Y          |\n",
      "| arkEmbedding)                                                                                             |\n",
      "||¯¯¯¯¯¯¯¯¯¯¯¯¯¯¯¯¯¯¯¯¯¯¯¯¯¯¯¯¯¯¯¯¯¯¯¯¯¯¯¯¯¯¯¯¯¯¯¯¯¯¯¯¯¯¯¯¯¯¯¯¯¯¯¯¯¯¯¯¯¯¯¯¯¯¯¯¯¯¯¯¯¯¯¯¯¯¯¯¯¯¯¯¯¯¯¯¯¯¯¯¯¯¯¯¯||\n",
      "|| dominant_hand_embedding_dense   (None, 128, 384)  210432    []                               Y          ||\n",
      "|| (Sequential)                                                                                            ||\n",
      "|||¯¯¯¯¯¯¯¯¯¯¯¯¯¯¯¯¯¯¯¯¯¯¯¯¯¯¯¯¯¯¯¯¯¯¯¯¯¯¯¯¯¯¯¯¯¯¯¯¯¯¯¯¯¯¯¯¯¯¯¯¯¯¯¯¯¯¯¯¯¯¯¯¯¯¯¯¯¯¯¯¯¯¯¯¯¯¯¯¯¯¯¯¯¯¯¯¯¯¯¯¯¯¯|||\n",
      "||| dominant_hand_embedding_dense_  (None, 128, 384)  62976   []                               Y          |||\n",
      "||| 1 (Dense)                                                                                             |||\n",
      "|||                                                                                                       |||\n",
      "||| dominant_hand_embedding_dense_  (None, 128, 384)  147456  []                               Y          |||\n",
      "||| 2 (Dense)                                                                                             |||\n",
      "||¯¯¯¯¯¯¯¯¯¯¯¯¯¯¯¯¯¯¯¯¯¯¯¯¯¯¯¯¯¯¯¯¯¯¯¯¯¯¯¯¯¯¯¯¯¯¯¯¯¯¯¯¯¯¯¯¯¯¯¯¯¯¯¯¯¯¯¯¯¯¯¯¯¯¯¯¯¯¯¯¯¯¯¯¯¯¯¯¯¯¯¯¯¯¯¯¯¯¯¯¯¯¯¯¯||\n",
      "|¯¯¯¯¯¯¯¯¯¯¯¯¯¯¯¯¯¯¯¯¯¯¯¯¯¯¯¯¯¯¯¯¯¯¯¯¯¯¯¯¯¯¯¯¯¯¯¯¯¯¯¯¯¯¯¯¯¯¯¯¯¯¯¯¯¯¯¯¯¯¯¯¯¯¯¯¯¯¯¯¯¯¯¯¯¯¯¯¯¯¯¯¯¯¯¯¯¯¯¯¯¯¯¯¯¯¯|\n",
      "¯¯¯¯¯¯¯¯¯¯¯¯¯¯¯¯¯¯¯¯¯¯¯¯¯¯¯¯¯¯¯¯¯¯¯¯¯¯¯¯¯¯¯¯¯¯¯¯¯¯¯¯¯¯¯¯¯¯¯¯¯¯¯¯¯¯¯¯¯¯¯¯¯¯¯¯¯¯¯¯¯¯¯¯¯¯¯¯¯¯¯¯¯¯¯¯¯¯¯¯¯¯¯¯¯¯¯¯¯\n",
      " encoder (Encoder)              (None, 128, 256)     2757120     ['embedding[0][0]',              Y          \n",
      "                                                                  'frames[0][0]']                            \n",
      "|¯¯¯¯¯¯¯¯¯¯¯¯¯¯¯¯¯¯¯¯¯¯¯¯¯¯¯¯¯¯¯¯¯¯¯¯¯¯¯¯¯¯¯¯¯¯¯¯¯¯¯¯¯¯¯¯¯¯¯¯¯¯¯¯¯¯¯¯¯¯¯¯¯¯¯¯¯¯¯¯¯¯¯¯¯¯¯¯¯¯¯¯¯¯¯¯¯¯¯¯¯¯¯¯¯¯¯|\n",
      "| encoder_transformer_block (Enc  multiple          886272      []                               Y          |\n",
      "| oderTransformerBlock)                                                                                     |\n",
      "|                                                                                                           |\n",
      "| encoder_transformer_block_1 (E  multiple          886272      []                               Y          |\n",
      "| ncoderTransformerBlock)                                                                                   |\n",
      "|                                                                                                           |\n",
      "| encoder_transformer_block_2 (E  multiple          886272      []                               Y          |\n",
      "| ncoderTransformerBlock)                                                                                   |\n",
      "|                                                                                                           |\n",
      "| dense_45 (Dense)             multiple             98304       []                               Y          |\n",
      "¯¯¯¯¯¯¯¯¯¯¯¯¯¯¯¯¯¯¯¯¯¯¯¯¯¯¯¯¯¯¯¯¯¯¯¯¯¯¯¯¯¯¯¯¯¯¯¯¯¯¯¯¯¯¯¯¯¯¯¯¯¯¯¯¯¯¯¯¯¯¯¯¯¯¯¯¯¯¯¯¯¯¯¯¯¯¯¯¯¯¯¯¯¯¯¯¯¯¯¯¯¯¯¯¯¯¯¯¯\n",
      " phrase (InputLayer)            [(None, 32)]         0           []                               Y          \n",
      "                                                                                                             \n",
      " decoder (Decoder)              (None, 32, 256)      968704      ['encoder[0][0]',                Y          \n",
      "                                                                  'phrase[0][0]']                            \n",
      "|¯¯¯¯¯¯¯¯¯¯¯¯¯¯¯¯¯¯¯¯¯¯¯¯¯¯¯¯¯¯¯¯¯¯¯¯¯¯¯¯¯¯¯¯¯¯¯¯¯¯¯¯¯¯¯¯¯¯¯¯¯¯¯¯¯¯¯¯¯¯¯¯¯¯¯¯¯¯¯¯¯¯¯¯¯¯¯¯¯¯¯¯¯¯¯¯¯¯¯¯¯¯¯¯¯¯¯|\n",
      "| embedding_1 (Embedding)      multiple             15872       []                               Y          |\n",
      "|                                                                                                           |\n",
      "| multi_head_attention_3 (MultiH  multiple          131072      []                               Y          |\n",
      "| eadAttention)                                                                                             |\n",
      "|                                                                                                           |\n",
      "| layer_normalization_6 (LayerNo  multiple          512         []                               Y          |\n",
      "| rmalization)                                                                                              |\n",
      "|                                                                                                           |\n",
      "| decoder_transformer_block (Dec  multiple          394240      []                               Y          |\n",
      "| oderTransformerBlock)                                                                                     |\n",
      "|                                                                                                           |\n",
      "| decoder_transformer_block_1 (D  multiple          394240      []                               Y          |\n",
      "| ecoderTransformerBlock)                                                                                   |\n",
      "¯¯¯¯¯¯¯¯¯¯¯¯¯¯¯¯¯¯¯¯¯¯¯¯¯¯¯¯¯¯¯¯¯¯¯¯¯¯¯¯¯¯¯¯¯¯¯¯¯¯¯¯¯¯¯¯¯¯¯¯¯¯¯¯¯¯¯¯¯¯¯¯¯¯¯¯¯¯¯¯¯¯¯¯¯¯¯¯¯¯¯¯¯¯¯¯¯¯¯¯¯¯¯¯¯¯¯¯¯\n",
      " classifier (Sequential)        (None, 32, 62)       15872       ['decoder[0][0]']                Y          \n",
      "|¯¯¯¯¯¯¯¯¯¯¯¯¯¯¯¯¯¯¯¯¯¯¯¯¯¯¯¯¯¯¯¯¯¯¯¯¯¯¯¯¯¯¯¯¯¯¯¯¯¯¯¯¯¯¯¯¯¯¯¯¯¯¯¯¯¯¯¯¯¯¯¯¯¯¯¯¯¯¯¯¯¯¯¯¯¯¯¯¯¯¯¯¯¯¯¯¯¯¯¯¯¯¯¯¯¯¯|\n",
      "| dropout_11 (Dropout)         (None, 32, 256)      0           []                               Y          |\n",
      "|                                                                                                           |\n",
      "| dense_89 (Dense)             (None, 32, 62)       15872       []                               Y          |\n",
      "¯¯¯¯¯¯¯¯¯¯¯¯¯¯¯¯¯¯¯¯¯¯¯¯¯¯¯¯¯¯¯¯¯¯¯¯¯¯¯¯¯¯¯¯¯¯¯¯¯¯¯¯¯¯¯¯¯¯¯¯¯¯¯¯¯¯¯¯¯¯¯¯¯¯¯¯¯¯¯¯¯¯¯¯¯¯¯¯¯¯¯¯¯¯¯¯¯¯¯¯¯¯¯¯¯¯¯¯¯\n",
      "=============================================================================================================\n",
      "Total params: 4,001,664\n",
      "Trainable params: 4,001,664\n",
      "Non-trainable params: 0\n",
      "_____________________________________________________________________________________________________________\n"
     ]
    }
   ],
   "source": [
    "model.summary(expand_nested=True, show_trainable=True,)"
   ]
  },
  {
   "cell_type": "code",
   "execution_count": 47,
   "metadata": {
    "execution": {
     "iopub.execute_input": "2023-07-17T12:48:19.076032Z",
     "iopub.status.busy": "2023-07-17T12:48:19.075648Z",
     "iopub.status.idle": "2023-07-17T12:48:19.429885Z",
     "shell.execute_reply": "2023-07-17T12:48:19.428854Z",
     "shell.execute_reply.started": "2023-07-17T12:48:19.075997Z"
    }
   },
   "outputs": [
    {
     "data": {
      "image/png": "[encoded data removed]",
      "text/plain": [
       "<IPython.core.display.Image object>"
      ]
     },
     "execution_count": 47,
     "metadata": {},
     "output_type": "execute_result"
    }
   ],
   "source": [
    "tf.keras.utils.plot_model(model, show_shapes=True, show_dtype=True, show_layer_names=True, show_layer_activations=True)"
   ]
  },
  {
   "cell_type": "code",
   "execution_count": 48,
   "metadata": {
    "execution": {
     "iopub.execute_input": "2023-07-17T12:48:19.431426Z",
     "iopub.status.busy": "2023-07-17T12:48:19.431052Z",
     "iopub.status.idle": "2023-07-17T13:16:31.774101Z",
     "shell.execute_reply": "2023-07-17T13:16:31.772969Z",
     "shell.execute_reply.started": "2023-07-17T12:48:19.431390Z"
    }
   },
   "outputs": [
    {
     "name": "stdout",
     "output_type": "stream",
     "text": [
      "Epoch 1/20\n",
      "678/678 [==============================] - 130s 133ms/step - loss: 3.3841 - top1acc: 0.1910 - top5acc: 0.5176 - val_loss: 3.1218 - val_top1acc: 0.2116 - val_top5acc: 0.5956\n",
      "Epoch 2/20\n",
      "678/678 [==============================] - 81s 119ms/step - loss: 3.2219 - top1acc: 0.2340 - top5acc: 0.5827 - val_loss: 3.0363 - val_top1acc: 0.2680 - val_top5acc: 0.6505\n",
      "Epoch 3/20\n",
      "678/678 [==============================] - 81s 120ms/step - loss: 3.1384 - top1acc: 0.2646 - top5acc: 0.6300 - val_loss: 2.9832 - val_top1acc: 0.2929 - val_top5acc: 0.6981\n",
      "Epoch 4/20\n",
      "678/678 [==============================] - 85s 125ms/step - loss: 3.0779 - top1acc: 0.2902 - top5acc: 0.6632 - val_loss: 2.9263 - val_top1acc: 0.3246 - val_top5acc: 0.7288\n",
      "Epoch 5/20\n",
      "678/678 [==============================] - 85s 125ms/step - loss: 3.0154 - top1acc: 0.3182 - top5acc: 0.6929 - val_loss: 2.8589 - val_top1acc: 0.3617 - val_top5acc: 0.7618\n",
      "Epoch 6/20\n",
      "678/678 [==============================] - 81s 119ms/step - loss: 2.9476 - top1acc: 0.3524 - top5acc: 0.7237 - val_loss: 2.7801 - val_top1acc: 0.4002 - val_top5acc: 0.7939\n",
      "Epoch 7/20\n",
      "678/678 [==============================] - 80s 118ms/step - loss: 2.8799 - top1acc: 0.3855 - top5acc: 0.7526 - val_loss: 2.7275 - val_top1acc: 0.4280 - val_top5acc: 0.8161\n",
      "Epoch 8/20\n",
      "678/678 [==============================] - 80s 119ms/step - loss: 2.8305 - top1acc: 0.4087 - top5acc: 0.7704 - val_loss: 2.6795 - val_top1acc: 0.4535 - val_top5acc: 0.8268\n",
      "Epoch 9/20\n",
      "678/678 [==============================] - 84s 124ms/step - loss: 2.7818 - top1acc: 0.4327 - top5acc: 0.7863 - val_loss: 2.6380 - val_top1acc: 0.4773 - val_top5acc: 0.8396\n",
      "Epoch 10/20\n",
      "678/678 [==============================] - 84s 124ms/step - loss: 2.7362 - top1acc: 0.4552 - top5acc: 0.7989 - val_loss: 2.5837 - val_top1acc: 0.5038 - val_top5acc: 0.8486\n",
      "Epoch 11/20\n",
      "678/678 [==============================] - 79s 117ms/step - loss: 2.6896 - top1acc: 0.4783 - top5acc: 0.8125 - val_loss: 2.5493 - val_top1acc: 0.5228 - val_top5acc: 0.8554\n",
      "Epoch 12/20\n",
      "678/678 [==============================] - 84s 124ms/step - loss: 2.6509 - top1acc: 0.4981 - top5acc: 0.8212 - val_loss: 2.5154 - val_top1acc: 0.5425 - val_top5acc: 0.8619\n",
      "Epoch 13/20\n",
      "678/678 [==============================] - 84s 124ms/step - loss: 2.6165 - top1acc: 0.5150 - top5acc: 0.8297 - val_loss: 2.4771 - val_top1acc: 0.5624 - val_top5acc: 0.8680\n",
      "Epoch 14/20\n",
      "678/678 [==============================] - 80s 118ms/step - loss: 2.5836 - top1acc: 0.5310 - top5acc: 0.8376 - val_loss: 2.4475 - val_top1acc: 0.5812 - val_top5acc: 0.8738\n",
      "Epoch 15/20\n",
      "678/678 [==============================] - 80s 118ms/step - loss: 2.5589 - top1acc: 0.5435 - top5acc: 0.8418 - val_loss: 2.4266 - val_top1acc: 0.5926 - val_top5acc: 0.8762\n",
      "Epoch 16/20\n",
      "678/678 [==============================] - 84s 124ms/step - loss: 2.5316 - top1acc: 0.5564 - top5acc: 0.8481 - val_loss: 2.4075 - val_top1acc: 0.6022 - val_top5acc: 0.8790\n",
      "Epoch 17/20\n",
      "678/678 [==============================] - 80s 118ms/step - loss: 2.5086 - top1acc: 0.5667 - top5acc: 0.8527 - val_loss: 2.3890 - val_top1acc: 0.6136 - val_top5acc: 0.8823\n",
      "Epoch 18/20\n",
      "678/678 [==============================] - 84s 124ms/step - loss: 2.4867 - top1acc: 0.5773 - top5acc: 0.8579 - val_loss: 2.3704 - val_top1acc: 0.6209 - val_top5acc: 0.8849\n",
      "Epoch 19/20\n",
      "678/678 [==============================] - 84s 124ms/step - loss: 2.4682 - top1acc: 0.5861 - top5acc: 0.8606 - val_loss: 2.3607 - val_top1acc: 0.6243 - val_top5acc: 0.8881\n",
      "Epoch 20/20\n",
      "678/678 [==============================] - 80s 118ms/step - loss: 2.4563 - top1acc: 0.5920 - top5acc: 0.8627 - val_loss: 2.3430 - val_top1acc: 0.6325 - val_top5acc: 0.8894\n"
     ]
    }
   ],
   "source": [
    " history = model.fit(\n",
    "            x=train_dataset,\n",
    "            steps_per_epoch=TRAIN_STEPS_PER_EPOCH,\n",
    "            epochs=N_EPOCHS,\n",
    "            validation_data=val_dataset,\n",
    "            validation_steps=N_VAL_STEPS_PER_EPOCH,\n",
    "            verbose = VERBOSE,\n",
    "        )"
   ]
  },
  {
   "cell_type": "code",
   "execution_count": 49,
   "metadata": {
    "execution": {
     "iopub.execute_input": "2023-07-17T13:16:31.776285Z",
     "iopub.status.busy": "2023-07-17T13:16:31.775965Z",
     "iopub.status.idle": "2023-07-17T13:16:31.955183Z",
     "shell.execute_reply": "2023-07-17T13:16:31.953806Z",
     "shell.execute_reply.started": "2023-07-17T13:16:31.776258Z"
    }
   },
   "outputs": [],
   "source": [
    "model.save_weights('model.h5')\n"
   ]
  },
  {
   "cell_type": "code",
   "execution_count": 50,
   "metadata": {
    "execution": {
     "iopub.execute_input": "2023-07-17T13:16:31.957179Z",
     "iopub.status.busy": "2023-07-17T13:16:31.956850Z",
     "iopub.status.idle": "2023-07-17T13:16:31.965328Z",
     "shell.execute_reply": "2023-07-17T13:16:31.964160Z",
     "shell.execute_reply.started": "2023-07-17T13:16:31.957145Z"
    }
   },
   "outputs": [],
   "source": [
    "# Save history\n",
    "train_loss = history.history['loss']\n",
    "train_top1acc = history.history['top1acc']\n",
    "train_top5acc = history.history['top5acc']\n",
    "\n",
    "val_loss = history.history['val_loss']\n",
    "val_top1acc = history.history['val_top1acc']\n",
    "val_top5acc = history.history['val_top5acc']\n"
   ]
  },
  {
   "cell_type": "code",
   "execution_count": 51,
   "metadata": {
    "execution": {
     "iopub.execute_input": "2023-07-17T13:16:31.967536Z",
     "iopub.status.busy": "2023-07-17T13:16:31.966817Z",
     "iopub.status.idle": "2023-07-17T13:16:33.343429Z",
     "shell.execute_reply": "2023-07-17T13:16:33.342416Z",
     "shell.execute_reply.started": "2023-07-17T13:16:31.967481Z"
    }
   },
   "outputs": [
    {
     "data": {
      "image/png": "[encoded data removed]",
      "text/plain": [
       "<Figure size 600x600 with 1 Axes>"
      ]
     },
     "metadata": {},
     "output_type": "display_data"
    },
    {
     "data": {
      "image/png": "[encoded data removed]",
      "text/plain": [
       "<Figure size 600x600 with 1 Axes>"
      ]
     },
     "metadata": {},
     "output_type": "display_data"
    },
    {
     "data": {
      "image/png": "[encoded data removed]",
      "text/plain": [
       "<Figure size 600x600 with 1 Axes>"
      ]
     },
     "metadata": {},
     "output_type": "display_data"
    }
   ],
   "source": [
    "\n",
    "\n",
    "epochs = range(1, len(val_loss) + 1)\n",
    "\n",
    "# Plotting Loss\n",
    "plt.figure(figsize=(6,6))\n",
    "plt.plot(epochs, train_loss, 'b', label='Train Loss')\n",
    "plt.plot(epochs, val_loss, 'r', label='Validation Loss')\n",
    "plt.title('Loss')\n",
    "plt.xlabel('Epochs')\n",
    "plt.ylabel('Loss')\n",
    "plt.legend()\n",
    "plt.tight_layout()\n",
    "\n",
    "plt.show();\n",
    "\n",
    "# Plotting Accuracy\n",
    "plt.figure(figsize=(6,6))\n",
    "plt.plot(epochs, train_top1acc, 'b', label='Train Top 1 Accuracy')\n",
    "plt.plot(epochs, val_top1acc, 'r', label='Validation Top 1 Accuracy')\n",
    "plt.title('Top 1 Accuracy')\n",
    "plt.xlabel('Epochs')\n",
    "plt.ylabel('Top 1 Accuracy')\n",
    "plt.legend()\n",
    "plt.tight_layout()\n",
    "\n",
    "plt.show();\n",
    "\n",
    "plt.figure(figsize=(6,6))\n",
    "plt.plot(epochs, train_top5acc, 'b', label='Train Top 5 Accuracy')\n",
    "plt.plot(epochs, val_top5acc, 'r', label='Validation Top 5 Accuracy')\n",
    "plt.title('Top 5 Accuracy')\n",
    "plt.xlabel('Epochs')\n",
    "plt.ylabel('Top 5 Accuracy')\n",
    "plt.legend()\n",
    "plt.tight_layout()\n",
    "\n",
    "plt.show();\n",
    "\n",
    "\n",
    "\n"
   ]
  },
  {
   "cell_type": "code",
   "execution_count": 52,
   "metadata": {
    "execution": {
     "iopub.execute_input": "2023-07-17T13:16:33.346483Z",
     "iopub.status.busy": "2023-07-17T13:16:33.345271Z",
     "iopub.status.idle": "2023-07-17T13:16:33.354123Z",
     "shell.execute_reply": "2023-07-17T13:16:33.352717Z",
     "shell.execute_reply.started": "2023-07-17T13:16:33.346426Z"
    }
   },
   "outputs": [],
   "source": [
    "# Custom callback to update weight decay with learning rate\n",
    "class WeightDecayCallback(tf.keras.callbacks.Callback):\n",
    "    def __init__(self, wd_ratio=WD_RATIO):\n",
    "        self.step_counter = 0\n",
    "        self.wd_ratio = wd_ratio\n",
    "    \n",
    "    def on_epoch_begin(self, epoch, logs=None):\n",
    "        model.optimizer.weight_decay = model.optimizer.learning_rate * self.wd_ratio\n",
    "        print(f'learning rate: {model.optimizer.learning_rate.numpy():.2e}, weight decay: {model.optimizer.weight_decay.numpy():.2e}')"
   ]
  },
  {
   "cell_type": "code",
   "execution_count": 53,
   "metadata": {
    "execution": {
     "iopub.execute_input": "2023-07-17T13:16:33.356526Z",
     "iopub.status.busy": "2023-07-17T13:16:33.355847Z",
     "iopub.status.idle": "2023-07-17T13:16:33.372613Z",
     "shell.execute_reply": "2023-07-17T13:16:33.371252Z",
     "shell.execute_reply.started": "2023-07-17T13:16:33.356471Z"
    }
   },
   "outputs": [],
   "source": [
    "def lrfn(current_step, num_warmup_steps, lr_max, num_cycles=0.50, num_training_steps=N_EPOCHS):\n",
    "    \n",
    "    if current_step < num_warmup_steps:\n",
    "        if WARMUP_METHOD == 'log':\n",
    "            return lr_max * 0.10 ** (num_warmup_steps - current_step)\n",
    "        else:\n",
    "            return lr_max * 2 ** -(num_warmup_steps - current_step)\n",
    "    else:\n",
    "        progress = float(current_step - num_warmup_steps) / float(max(1, num_training_steps - num_warmup_steps))\n",
    "\n",
    "        return max(0.0, 0.5 * (1.0 + math.cos(math.pi * float(num_cycles) * 2.0 * progress))) * lr_max"
   ]
  },
  {
   "cell_type": "markdown",
   "metadata": {},
   "source": [
    "# Prediction "
   ]
  },
  {
   "cell_type": "code",
   "execution_count": 54,
   "metadata": {
    "execution": {
     "iopub.execute_input": "2023-07-17T13:16:33.375097Z",
     "iopub.status.busy": "2023-07-17T13:16:33.374335Z",
     "iopub.status.idle": "2023-07-17T13:16:33.384534Z",
     "shell.execute_reply": "2023-07-17T13:16:33.383539Z",
     "shell.execute_reply.started": "2023-07-17T13:16:33.375046Z"
    }
   },
   "outputs": [],
   "source": [
    "# Output Predictions to string\n",
    "def outputs2phrase(outputs):\n",
    "    if outputs.ndim == 2:\n",
    "        outputs = np.argmax(outputs, axis=1)\n",
    "    \n",
    "    return ''.join([ORD2CHAR.get(s, '') for s in outputs])"
   ]
  },
  {
   "cell_type": "markdown",
   "metadata": {},
   "source": [
    "# Parallelization of Prediction"
   ]
  },
  {
   "cell_type": "code",
   "execution_count": 179,
   "metadata": {
    "execution": {
     "iopub.execute_input": "2023-07-17T14:49:09.682435Z",
     "iopub.status.busy": "2023-07-17T14:49:09.681433Z",
     "iopub.status.idle": "2023-07-17T14:49:09.710407Z",
     "shell.execute_reply": "2023-07-17T14:49:09.709252Z",
     "shell.execute_reply.started": "2023-07-17T14:49:09.682398Z"
    }
   },
   "outputs": [],
   "source": [
    "@tf.function()\n",
    "def predict_phrase(batch_frames):\n",
    "    batch_frames = tf.convert_to_tensor(batch_frames)\n",
    "    phrase = tf.fill([batch_frames.shape[0], MAX_PHRASE_LENGTH], PAD_TOKEN)\n",
    "    phrase = tf.cast(phrase, tf.int32) # Cast phrase to int32 initially\n",
    "    for idx in tf.range(MAX_PHRASE_LENGTH):\n",
    "        # Predict Next Token\n",
    "        outputs = model({\n",
    "            'frames': batch_frames,\n",
    "            'phrase': phrase,\n",
    "        })\n",
    "        \n",
    "        phrase = tf.where(\n",
    "            tf.range(MAX_PHRASE_LENGTH)[None, :] < idx + 1,\n",
    "            tf.argmax(outputs, axis=-1, output_type=tf.int32),\n",
    "            phrase,\n",
    "        )\n",
    "    # one-hot encode the outputs\n",
    "    outputs_one_hot = tf.one_hot(phrase, depth=N_UNIQUE_CHARACTERS)\n",
    "    return outputs_one_hot\n"
   ]
  },
  {
   "cell_type": "code",
   "execution_count": 181,
   "metadata": {
    "execution": {
     "iopub.execute_input": "2023-07-17T14:49:29.867447Z",
     "iopub.status.busy": "2023-07-17T14:49:29.867006Z",
     "iopub.status.idle": "2023-07-17T14:49:29.877036Z",
     "shell.execute_reply": "2023-07-17T14:49:29.875677Z",
     "shell.execute_reply.started": "2023-07-17T14:49:29.867410Z"
    }
   },
   "outputs": [],
   "source": [
    "def get_ld_test(batch_size):\n",
    "    LD_TEST = []\n",
    "    for idx in tqdm(range(0, len(X_test), batch_size)):\n",
    "        batch_frames = X_test[idx:idx+batch_size]\n",
    "        true_phrases = y_test[idx:idx+batch_size]\n",
    "\n",
    "        # Predict Phrases and Convert to Strings\n",
    "        pred_phrases = predict_phrase(batch_frames).numpy()\n",
    "        pred_phrases = [outputs2phrase(p) for p in pred_phrases]\n",
    "\n",
    "        # True Phrases Ordinal to Strings\n",
    "        true_phrases = [outputs2phrase(t) for t in true_phrases]\n",
    "\n",
    "        # Add Levenshtein Distances\n",
    "        LD_TEST.extend([{\n",
    "            'phrase_true': true_phrase,\n",
    "            'phrase_pred': pred_phrase,\n",
    "            'levenshtein_distance': levenshtein(pred_phrase, true_phrase),\n",
    "        } for true_phrase, pred_phrase in zip(true_phrases, pred_phrases)])\n",
    "\n",
    "    # Convert to DataFrame\n",
    "    LD_TEST_DF = pd.DataFrame(LD_TEST)\n",
    "    \n",
    "    return LD_TEST_DF"
   ]
  },
  {
   "cell_type": "code",
   "execution_count": 182,
   "metadata": {
    "execution": {
     "iopub.execute_input": "2023-07-17T14:49:31.300236Z",
     "iopub.status.busy": "2023-07-17T14:49:31.299844Z",
     "iopub.status.idle": "2023-07-17T14:51:09.549636Z",
     "shell.execute_reply": "2023-07-17T14:51:09.548631Z",
     "shell.execute_reply.started": "2023-07-17T14:49:31.300199Z"
    }
   },
   "outputs": [
    {
     "data": {
      "application/vnd.jupyter.widget-view+json": {
       "model_id": "c05bc4091d954ed9a63badc59b4a9ebe",
       "version_major": 2,
       "version_minor": 0
      },
      "text/plain": [
       "  0%|          | 0/19 [00:00<?, ?it/s]"
      ]
     },
     "metadata": {},
     "output_type": "display_data"
    },
    {
     "data": {
      "text/html": [
       "<div>\n",
       "<style scoped>\n",
       "    .dataframe tbody tr th:only-of-type {\n",
       "        vertical-align: middle;\n",
       "    }\n",
       "\n",
       "    .dataframe tbody tr th {\n",
       "        vertical-align: top;\n",
       "    }\n",
       "\n",
       "    .dataframe thead th {\n",
       "        text-align: right;\n",
       "    }\n",
       "</style>\n",
       "<table border=\"1\" class=\"dataframe\">\n",
       "  <thead>\n",
       "    <tr style=\"text-align: right;\">\n",
       "      <th></th>\n",
       "      <th>phrase_true</th>\n",
       "      <th>phrase_pred</th>\n",
       "      <th>levenshtein_distance</th>\n",
       "    </tr>\n",
       "  </thead>\n",
       "  <tbody>\n",
       "    <tr>\n",
       "      <th>0</th>\n",
       "      <td>425 andrus loop</td>\n",
       "      <td>2442 nandre solop</td>\n",
       "      <td>8</td>\n",
       "    </tr>\n",
       "    <tr>\n",
       "      <th>1</th>\n",
       "      <td>3130 oak stream dr</td>\n",
       "      <td>330 remar mer</td>\n",
       "      <td>11</td>\n",
       "    </tr>\n",
       "    <tr>\n",
       "      <th>2</th>\n",
       "      <td>620 new hampshire 6th cutoff</td>\n",
       "      <td>www.hahireweh.com/hactof</td>\n",
       "      <td>21</td>\n",
       "    </tr>\n",
       "    <tr>\n",
       "      <th>3</th>\n",
       "      <td>+39-4218-2683-13</td>\n",
       "      <td>+39-428-268-32-132</td>\n",
       "      <td>4</td>\n",
       "    </tr>\n",
       "    <tr>\n",
       "      <th>4</th>\n",
       "      <td>666-818-8052</td>\n",
       "      <td>www.818-8052.52</td>\n",
       "      <td>7</td>\n",
       "    </tr>\n",
       "    <tr>\n",
       "      <th>5</th>\n",
       "      <td>3242 pine place road</td>\n",
       "      <td>3242 eaco road</td>\n",
       "      <td>7</td>\n",
       "    </tr>\n",
       "    <tr>\n",
       "      <th>6</th>\n",
       "      <td>54 malgren</td>\n",
       "      <td>54 malgere</td>\n",
       "      <td>2</td>\n",
       "    </tr>\n",
       "    <tr>\n",
       "      <th>7</th>\n",
       "      <td>402-210-8595</td>\n",
       "      <td>402-210-8595</td>\n",
       "      <td>0</td>\n",
       "    </tr>\n",
       "    <tr>\n",
       "      <th>8</th>\n",
       "      <td>2130 altrui place</td>\n",
       "      <td>130 maltte parke</td>\n",
       "      <td>8</td>\n",
       "    </tr>\n",
       "    <tr>\n",
       "      <th>9</th>\n",
       "      <td>+374-6400-15</td>\n",
       "      <td>+43-41-43-419-43-241</td>\n",
       "      <td>14</td>\n",
       "    </tr>\n",
       "    <tr>\n",
       "      <th>10</th>\n",
       "      <td>691-677-1234</td>\n",
       "      <td>+69-69-64-942-94-24</td>\n",
       "      <td>13</td>\n",
       "    </tr>\n",
       "    <tr>\n",
       "      <th>11</th>\n",
       "      <td>+44-657-80-64</td>\n",
       "      <td>+46-65-65-65-64</td>\n",
       "      <td>6</td>\n",
       "    </tr>\n",
       "    <tr>\n",
       "      <th>12</th>\n",
       "      <td>52 lake point lane north</td>\n",
       "      <td>523 prive drive road</td>\n",
       "      <td>16</td>\n",
       "    </tr>\n",
       "    <tr>\n",
       "      <th>13</th>\n",
       "      <td>457-428-2786</td>\n",
       "      <td>482-278-8663</td>\n",
       "      <td>8</td>\n",
       "    </tr>\n",
       "    <tr>\n",
       "      <th>14</th>\n",
       "      <td>4103 co 301j kemper</td>\n",
       "      <td>411 roy 1101ke streeter</td>\n",
       "      <td>13</td>\n",
       "    </tr>\n",
       "    <tr>\n",
       "      <th>15</th>\n",
       "      <td>69690 tump</td>\n",
       "      <td>6965 co aum</td>\n",
       "      <td>6</td>\n",
       "    </tr>\n",
       "    <tr>\n",
       "      <th>16</th>\n",
       "      <td>84 wildcat falls cir</td>\n",
       "      <td>467 lidctt falls cir</td>\n",
       "      <td>6</td>\n",
       "    </tr>\n",
       "    <tr>\n",
       "      <th>17</th>\n",
       "      <td>625 fork off 107</td>\n",
       "      <td>6259 ouke fork 107</td>\n",
       "      <td>7</td>\n",
       "    </tr>\n",
       "    <tr>\n",
       "      <th>18</th>\n",
       "      <td>+64-1196-615-99-39-895</td>\n",
       "      <td>+41-19-19-19-91-91-99</td>\n",
       "      <td>12</td>\n",
       "    </tr>\n",
       "    <tr>\n",
       "      <th>19</th>\n",
       "      <td>jeramy mccoy</td>\n",
       "      <td>jemarman mcoy</td>\n",
       "      <td>5</td>\n",
       "    </tr>\n",
       "    <tr>\n",
       "      <th>20</th>\n",
       "      <td>847-871-7259</td>\n",
       "      <td>8478 172295</td>\n",
       "      <td>5</td>\n",
       "    </tr>\n",
       "    <tr>\n",
       "      <th>21</th>\n",
       "      <td>+93-34-745-83481</td>\n",
       "      <td>939-464-5465</td>\n",
       "      <td>10</td>\n",
       "    </tr>\n",
       "    <tr>\n",
       "      <th>22</th>\n",
       "      <td>929-837-5813</td>\n",
       "      <td>929-837-8131</td>\n",
       "      <td>2</td>\n",
       "    </tr>\n",
       "    <tr>\n",
       "      <th>23</th>\n",
       "      <td>kottou.shopselect.net</td>\n",
       "      <td>oushosellete.com.ede</td>\n",
       "      <td>15</td>\n",
       "    </tr>\n",
       "    <tr>\n",
       "      <th>24</th>\n",
       "      <td>forestry-transport</td>\n",
       "      <td>forestrity rastreet street</td>\n",
       "      <td>14</td>\n",
       "    </tr>\n",
       "    <tr>\n",
       "      <th>25</th>\n",
       "      <td>caroline simmons</td>\n",
       "      <td>carlinesimonssss</td>\n",
       "      <td>6</td>\n",
       "    </tr>\n",
       "    <tr>\n",
       "      <th>26</th>\n",
       "      <td>attaqa.net</td>\n",
       "      <td>tata annete</td>\n",
       "      <td>5</td>\n",
       "    </tr>\n",
       "    <tr>\n",
       "      <th>27</th>\n",
       "      <td>6-5277/audiotaste/62160</td>\n",
       "      <td>www.527/ardidiotaste/26060</td>\n",
       "      <td>11</td>\n",
       "    </tr>\n",
       "    <tr>\n",
       "      <th>28</th>\n",
       "      <td>185526 claude maples</td>\n",
       "      <td>claudemapes/wss</td>\n",
       "      <td>13</td>\n",
       "    </tr>\n",
       "    <tr>\n",
       "      <th>29</th>\n",
       "      <td>jorge melton</td>\n",
       "      <td>jorgemeltonn</td>\n",
       "      <td>2</td>\n",
       "    </tr>\n",
       "  </tbody>\n",
       "</table>\n",
       "</div>"
      ],
      "text/plain": [
       "                     phrase_true                 phrase_pred  \\\n",
       "0                425 andrus loop           2442 nandre solop   \n",
       "1             3130 oak stream dr               330 remar mer   \n",
       "2   620 new hampshire 6th cutoff    www.hahireweh.com/hactof   \n",
       "3               +39-4218-2683-13          +39-428-268-32-132   \n",
       "4                   666-818-8052             www.818-8052.52   \n",
       "5           3242 pine place road              3242 eaco road   \n",
       "6                     54 malgren                  54 malgere   \n",
       "7                   402-210-8595                402-210-8595   \n",
       "8              2130 altrui place            130 maltte parke   \n",
       "9                   +374-6400-15        +43-41-43-419-43-241   \n",
       "10                  691-677-1234         +69-69-64-942-94-24   \n",
       "11                 +44-657-80-64             +46-65-65-65-64   \n",
       "12      52 lake point lane north        523 prive drive road   \n",
       "13                  457-428-2786                482-278-8663   \n",
       "14           4103 co 301j kemper     411 roy 1101ke streeter   \n",
       "15                    69690 tump                 6965 co aum   \n",
       "16          84 wildcat falls cir        467 lidctt falls cir   \n",
       "17              625 fork off 107          6259 ouke fork 107   \n",
       "18        +64-1196-615-99-39-895       +41-19-19-19-91-91-99   \n",
       "19                  jeramy mccoy               jemarman mcoy   \n",
       "20                  847-871-7259                 8478 172295   \n",
       "21              +93-34-745-83481                939-464-5465   \n",
       "22                  929-837-5813                929-837-8131   \n",
       "23         kottou.shopselect.net        oushosellete.com.ede   \n",
       "24            forestry-transport  forestrity rastreet street   \n",
       "25              caroline simmons            carlinesimonssss   \n",
       "26                    attaqa.net                 tata annete   \n",
       "27       6-5277/audiotaste/62160  www.527/ardidiotaste/26060   \n",
       "28          185526 claude maples             claudemapes/wss   \n",
       "29                  jorge melton                jorgemeltonn   \n",
       "\n",
       "    levenshtein_distance  \n",
       "0                      8  \n",
       "1                     11  \n",
       "2                     21  \n",
       "3                      4  \n",
       "4                      7  \n",
       "5                      7  \n",
       "6                      2  \n",
       "7                      0  \n",
       "8                      8  \n",
       "9                     14  \n",
       "10                    13  \n",
       "11                     6  \n",
       "12                    16  \n",
       "13                     8  \n",
       "14                    13  \n",
       "15                     6  \n",
       "16                     6  \n",
       "17                     7  \n",
       "18                    12  \n",
       "19                     5  \n",
       "20                     5  \n",
       "21                    10  \n",
       "22                     2  \n",
       "23                    15  \n",
       "24                    14  \n",
       "25                     6  \n",
       "26                     5  \n",
       "27                    11  \n",
       "28                    13  \n",
       "29                     2  "
      ]
     },
     "metadata": {},
     "output_type": "display_data"
    }
   ],
   "source": [
    "LD_TEST_DF = get_ld_test(512)\n",
    "\n",
    "# Display Errors\n",
    "display(LD_TEST_DF.head(30))"
   ]
  },
  {
   "cell_type": "code",
   "execution_count": 184,
   "metadata": {
    "execution": {
     "iopub.execute_input": "2023-07-17T14:51:30.000272Z",
     "iopub.status.busy": "2023-07-17T14:51:29.999642Z",
     "iopub.status.idle": "2023-07-17T14:51:30.017962Z",
     "shell.execute_reply": "2023-07-17T14:51:30.016452Z",
     "shell.execute_reply.started": "2023-07-17T14:51:30.000236Z"
    }
   },
   "outputs": [
    {
     "data": {
      "text/plain": [
       "count    9293.000000\n",
       "mean        7.852039\n",
       "std         5.269650\n",
       "min         0.000000\n",
       "25%         4.000000\n",
       "50%         7.000000\n",
       "75%        11.000000\n",
       "max        28.000000\n",
       "Name: levenshtein_distance, dtype: float64"
      ]
     },
     "execution_count": 184,
     "metadata": {},
     "output_type": "execute_result"
    }
   ],
   "source": [
    "LD_TEST_DF['levenshtein_distance'].describe()"
   ]
  },
  {
   "cell_type": "code",
   "execution_count": 185,
   "metadata": {
    "execution": {
     "iopub.execute_input": "2023-07-17T14:51:31.319904Z",
     "iopub.status.busy": "2023-07-17T14:51:31.318873Z",
     "iopub.status.idle": "2023-07-17T14:51:31.328780Z",
     "shell.execute_reply": "2023-07-17T14:51:31.327766Z",
     "shell.execute_reply.started": "2023-07-17T14:51:31.319861Z"
    }
   },
   "outputs": [
    {
     "data": {
      "text/plain": [
       "4     788\n",
       "5     771\n",
       "6     769\n",
       "7     756\n",
       "8     747\n",
       "3     671\n",
       "2     644\n",
       "9     559\n",
       "10    476\n",
       "1     422\n",
       "11    413\n",
       "12    339\n",
       "13    296\n",
       "0     265\n",
       "14    262\n",
       "15    212\n",
       "16    178\n",
       "17    151\n",
       "18    131\n",
       "19    102\n",
       "20     80\n",
       "21     70\n",
       "22     65\n",
       "23     60\n",
       "24     22\n",
       "25     19\n",
       "27     13\n",
       "26     11\n",
       "28      1\n",
       "Name: levenshtein_distance, dtype: int64"
      ]
     },
     "execution_count": 185,
     "metadata": {},
     "output_type": "execute_result"
    }
   ],
   "source": [
    "LD_TEST_DF['levenshtein_distance'].value_counts()"
   ]
  },
  {
   "cell_type": "code",
   "execution_count": 186,
   "metadata": {
    "execution": {
     "iopub.execute_input": "2023-07-17T14:51:32.361720Z",
     "iopub.status.busy": "2023-07-17T14:51:32.360567Z",
     "iopub.status.idle": "2023-07-17T14:51:32.769194Z",
     "shell.execute_reply": "2023-07-17T14:51:32.768038Z",
     "shell.execute_reply.started": "2023-07-17T14:51:32.361670Z"
    }
   },
   "outputs": [
    {
     "data": {
      "image/png": "[encoded data removed]",
      "text/plain": [
       "<Figure size 1000x600 with 1 Axes>"
      ]
     },
     "metadata": {},
     "output_type": "display_data"
    }
   ],
   "source": [
    "plt.figure(figsize=(10,6))  \n",
    "plt.hist(LD_TEST_DF['levenshtein_distance'], bins=29, color='skyblue', edgecolor='black')\n",
    "plt.title('Histogram of Levenshtein Distances')  \n",
    "plt.xlabel('Levenshtein Distance')  \n",
    "plt.ylabel('Count')  \n",
    "plt.grid(axis='y', alpha=0.75)  \n",
    "plt.show();"
   ]
  },
  {
   "cell_type": "code",
   "execution_count": 61,
   "metadata": {
    "execution": {
     "iopub.execute_input": "2023-07-17T13:40:36.188822Z",
     "iopub.status.busy": "2023-07-17T13:40:36.188466Z",
     "iopub.status.idle": "2023-07-17T13:40:36.198254Z",
     "shell.execute_reply": "2023-07-17T13:40:36.196966Z",
     "shell.execute_reply.started": "2023-07-17T13:40:36.188793Z"
    }
   },
   "outputs": [
    {
     "data": {
      "text/plain": [
       "(7.85203916926719, 5.269650450392536)"
      ]
     },
     "execution_count": 61,
     "metadata": {},
     "output_type": "execute_result"
    }
   ],
   "source": [
    "LD_TEST_DF['levenshtein_distance'].mean(), LD_TEST_DF['levenshtein_distance'].std()"
   ]
  },
  {
   "cell_type": "code",
   "execution_count": 62,
   "metadata": {
    "execution": {
     "iopub.execute_input": "2023-07-17T13:40:36.201292Z",
     "iopub.status.busy": "2023-07-17T13:40:36.200536Z",
     "iopub.status.idle": "2023-07-17T13:40:36.259714Z",
     "shell.execute_reply": "2023-07-17T13:40:36.258363Z",
     "shell.execute_reply.started": "2023-07-17T13:40:36.201251Z"
    }
   },
   "outputs": [],
   "source": [
    "LD_TEST_DF.to_csv('LD_TEST_DF')"
   ]
  },
  {
   "cell_type": "markdown",
   "metadata": {},
   "source": [
    "# Saving the model\n"
   ]
  },
  {
   "cell_type": "code",
   "execution_count": 63,
   "metadata": {
    "execution": {
     "iopub.execute_input": "2023-07-17T13:40:36.262039Z",
     "iopub.status.busy": "2023-07-17T13:40:36.261615Z",
     "iopub.status.idle": "2023-07-17T13:40:42.691327Z",
     "shell.execute_reply": "2023-07-17T13:40:42.689379Z",
     "shell.execute_reply.started": "2023-07-17T13:40:36.262000Z"
    }
   },
   "outputs": [
    {
     "name": "stdout",
     "output_type": "stream",
     "text": [
      "demo_raw_data shape: (123, 164), dtype: float32\n",
      "demo_output shape: (32, 62), dtype: float32\n",
      "demo_outputs phrase decoded: 33 creek house\n",
      "phrase true: 3 creekhouse\n"
     ]
    }
   ],
   "source": [
    "# TFLite model for submission\n",
    "class TFLiteModel(tf.Module):\n",
    "    def __init__(self, model):\n",
    "        super(TFLiteModel, self).__init__()\n",
    "\n",
    "        # Load the feature generation and main models\n",
    "        self.preprocess_layer = preprocess_layer\n",
    "        self.model = model\n",
    "    \n",
    "    @tf.function(jit_compile=True)\n",
    "    def encoder(self, x, frames_inp):\n",
    "        x = self.model.get_layer('embedding')(x)\n",
    "        x = self.model.get_layer('encoder')(x, frames_inp)\n",
    "        \n",
    "        return x\n",
    "        \n",
    "    @tf.function(jit_compile=True)\n",
    "    def decoder(self, x, phrase_inp):\n",
    "        x = self.model.get_layer('decoder')(x, phrase_inp)\n",
    "        x = self.model.get_layer('classifier')(x)\n",
    "        \n",
    "        return x\n",
    "    \n",
    "    @tf.function(input_signature=[tf.TensorSpec(shape=[None, N_COLS0], dtype=tf.float32, name='inputs')])\n",
    "    def __call__(self, inputs):\n",
    "        # Number Of Input Frames\n",
    "        N_INPUT_FRAMES = tf.shape(inputs)[0]\n",
    "        # Preprocess Data\n",
    "        frames_inp = self.preprocess_layer(inputs)        \n",
    "        # Add Batch Dimension\n",
    "        frames_inp = tf.expand_dims(frames_inp, axis=0)\n",
    "        # Get Encoding\n",
    "        encoding = self.encoder(frames_inp, frames_inp)\n",
    "        # Make Prediction\n",
    "        phrase = tf.fill([1,MAX_PHRASE_LENGTH], PAD_TOKEN)\n",
    "        # Predict One Token At A Time\n",
    "        stop = False\n",
    "        for idx in tf.range(MAX_PHRASE_LENGTH):\n",
    "            # Cast phrase to int8\n",
    "            phrase = tf.cast(phrase, tf.int8)\n",
    "            # If EOS token is predicted, stop predicting\n",
    "            outputs = tf.cond(\n",
    "                stop,\n",
    "                lambda: tf.one_hot(tf.cast(phrase, tf.int32), N_UNIQUE_CHARACTERS),\n",
    "                lambda: self.decoder(encoding, phrase)\n",
    "            )\n",
    "            # Add predicted token to input phrase\n",
    "            phrase = tf.cast(phrase, tf.int32)\n",
    "            # Replcae PAD token with predicted token up to idx\n",
    "            phrase = tf.where(\n",
    "                tf.range(MAX_PHRASE_LENGTH) < idx + 1,\n",
    "                tf.argmax(outputs, axis=2, output_type=tf.int32),\n",
    "                phrase,\n",
    "            )\n",
    "            # Predicted Token\n",
    "            predicted_token = phrase[0,idx]\n",
    "            # If EOS (End Of Sentence) token is predicted stop\n",
    "            if not stop:\n",
    "                stop = predicted_token == EOS_TOKEN\n",
    "            \n",
    "        # Squeeze outputs\n",
    "        outputs = tf.squeeze(phrase, axis=0)\n",
    "        outputs = tf.one_hot(outputs, N_UNIQUE_CHARACTERS)\n",
    "            \n",
    "        # Return a dictionary with the output tensor\n",
    "        return {'outputs': outputs }\n",
    "\n",
    "# Define TF Lite Model\n",
    "tflite_keras_model = TFLiteModel(model)\n",
    "\n",
    "# Sanity Check\n",
    "# demo_sequence_id = 1816796431\n",
    "demo_sequence_id = example_parquet_df.index.unique()[0]\n",
    "demo_raw_data = example_parquet_df.loc[demo_sequence_id, COLUMNS0].values\n",
    "demo_phrase_true = train_sequence_id.loc[demo_sequence_id, 'phrase']\n",
    "print(f'demo_raw_data shape: {demo_raw_data.shape}, dtype: {demo_raw_data.dtype}')\n",
    "demo_output = tflite_keras_model(demo_raw_data)['outputs'].numpy()\n",
    "print(f'demo_output shape: {demo_output.shape}, dtype: {demo_output.dtype}')\n",
    "print(f'demo_outputs phrase decoded: {outputs2phrase(demo_output)}')\n",
    "print(f'phrase true: {demo_phrase_true}')"
   ]
  },
  {
   "cell_type": "code",
   "execution_count": null,
   "metadata": {},
   "outputs": [],
   "source": []
  },
  {
   "cell_type": "markdown",
   "metadata": {},
   "source": [
    "# Attempt to "
   ]
  },
  {
   "cell_type": "code",
   "execution_count": 64,
   "metadata": {
    "execution": {
     "iopub.execute_input": "2023-07-17T13:40:42.694479Z",
     "iopub.status.busy": "2023-07-17T13:40:42.692950Z",
     "iopub.status.idle": "2023-07-17T13:42:03.959094Z",
     "shell.execute_reply": "2023-07-17T13:42:03.957781Z",
     "shell.execute_reply.started": "2023-07-17T13:40:42.694431Z"
    }
   },
   "outputs": [],
   "source": [
    "# Create Model Converter\n",
    "keras_model_converter = tf.lite.TFLiteConverter.from_keras_model(tflite_keras_model)\n",
    "# Convert Model\n",
    "tflite_model = keras_model_converter.convert()\n",
    "# Write Model\n",
    "with open('/kaggle/working/model.tflite', 'wb') as f:\n",
    "    f.write(tflite_model)"
   ]
  },
  {
   "cell_type": "code",
   "execution_count": 65,
   "metadata": {
    "execution": {
     "iopub.execute_input": "2023-07-17T13:42:03.967946Z",
     "iopub.status.busy": "2023-07-17T13:42:03.965038Z",
     "iopub.status.idle": "2023-07-17T13:42:03.977154Z",
     "shell.execute_reply": "2023-07-17T13:42:03.975783Z",
     "shell.execute_reply.started": "2023-07-17T13:42:03.967900Z"
    }
   },
   "outputs": [],
   "source": [
    "# Add selected_columns json to only select specific columns from input frames\n",
    "with open('inference_args.json', 'w') as f:\n",
    "     json.dump({ 'selected_columns': COLUMNS0.tolist() }, f)"
   ]
  },
  {
   "cell_type": "code",
   "execution_count": 66,
   "metadata": {
    "execution": {
     "iopub.execute_input": "2023-07-17T13:42:03.987774Z",
     "iopub.status.busy": "2023-07-17T13:42:03.984569Z",
     "iopub.status.idle": "2023-07-17T13:42:07.430708Z",
     "shell.execute_reply": "2023-07-17T13:42:07.429193Z",
     "shell.execute_reply.started": "2023-07-17T13:42:03.987726Z"
    }
   },
   "outputs": [
    {
     "name": "stdout",
     "output_type": "stream",
     "text": [
      "  adding: kaggle/working/model.tflite (deflated 9%)\n",
      "  adding: kaggle/working/inference_args.json (deflated 83%)\n"
     ]
    }
   ],
   "source": [
    "# Zip Model\n",
    "!zip submission.zip /kaggle/working/model.tflite /kaggle/working/inference_args.json"
   ]
  }
 ],
 "metadata": {
  "kernelspec": {
   "display_name": "Python 3 (ipykernel)",
   "language": "python",
   "name": "python3"
  },
  "language_info": {
   "codemirror_mode": {
    "name": "ipython",
    "version": 3
   },
   "file_extension": ".py",
   "mimetype": "text/x-python",
   "name": "python",
   "nbconvert_exporter": "python",
   "pygments_lexer": "ipython3",
   "version": "3.10.6"
  }
 },
 "nbformat": 4,
 "nbformat_minor": 4
}
