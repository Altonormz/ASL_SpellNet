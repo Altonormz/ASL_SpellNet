{
  "cells": [
    {
      "cell_type": "code",
      "source": [
        "!pip3 install gdown\n",
        "import gdown"
      ],
      "metadata": {
        "colab": {
          "base_uri": "https://localhost:8080/"
        },
        "id": "4K5uGlYjhT1B",
        "outputId": "6e923387-e1f3-46e9-8a10-71e661db6fae"
      },
      "execution_count": 1,
      "outputs": [
        {
          "output_type": "stream",
          "name": "stdout",
          "text": [
            "Requirement already satisfied: gdown in /usr/local/lib/python3.10/dist-packages (4.6.6)\n",
            "Requirement already satisfied: filelock in /usr/local/lib/python3.10/dist-packages (from gdown) (3.12.2)\n",
            "Requirement already satisfied: requests[socks] in /usr/local/lib/python3.10/dist-packages (from gdown) (2.27.1)\n",
            "Requirement already satisfied: six in /usr/local/lib/python3.10/dist-packages (from gdown) (1.16.0)\n",
            "Requirement already satisfied: tqdm in /usr/local/lib/python3.10/dist-packages (from gdown) (4.65.0)\n",
            "Requirement already satisfied: beautifulsoup4 in /usr/local/lib/python3.10/dist-packages (from gdown) (4.11.2)\n",
            "Requirement already satisfied: soupsieve>1.2 in /usr/local/lib/python3.10/dist-packages (from beautifulsoup4->gdown) (2.4.1)\n",
            "Requirement already satisfied: urllib3<1.27,>=1.21.1 in /usr/local/lib/python3.10/dist-packages (from requests[socks]->gdown) (1.26.16)\n",
            "Requirement already satisfied: certifi>=2017.4.17 in /usr/local/lib/python3.10/dist-packages (from requests[socks]->gdown) (2023.5.7)\n",
            "Requirement already satisfied: charset-normalizer~=2.0.0 in /usr/local/lib/python3.10/dist-packages (from requests[socks]->gdown) (2.0.12)\n",
            "Requirement already satisfied: idna<4,>=2.5 in /usr/local/lib/python3.10/dist-packages (from requests[socks]->gdown) (3.4)\n",
            "Requirement already satisfied: PySocks!=1.5.7,>=1.5.6 in /usr/local/lib/python3.10/dist-packages (from requests[socks]->gdown) (1.7.1)\n"
          ]
        }
      ]
    },
    {
      "cell_type": "code",
      "source": [
        "# X_train\n",
        "!gdown 19JTV9whllh5JaW1BkDpu4FoJU_0dpvjq\n",
        "\n",
        "# X_val\n",
        "!gdown 15vKRrt0SzXDPfbyeLuOZ0yiUMTlyFbGm\n",
        "\n",
        "# y_train\n",
        "!gdown 1d1SVglkffNSZALCvoyMlgiDMDA2DsVXK\n",
        "\n",
        "# y_val\n",
        "!gdown 1PhIZZCgfA3TqFIUjJl-z80Au6LJN84bw"
      ],
      "metadata": {
        "colab": {
          "base_uri": "https://localhost:8080/"
        },
        "id": "JTBfpqs4heuN",
        "outputId": "01678488-113e-4f7a-988f-eda6aea66f66"
      },
      "execution_count": 2,
      "outputs": [
        {
          "output_type": "stream",
          "name": "stdout",
          "text": [
            "Downloading...\n",
            "From: https://drive.google.com/uc?id=19JTV9whllh5JaW1BkDpu4FoJU_0dpvjq\n",
            "To: /content/X_train.npy\n",
            "100% 4.59G/4.59G [00:46<00:00, 99.4MB/s]\n",
            "Downloading...\n",
            "From: https://drive.google.com/uc?id=15vKRrt0SzXDPfbyeLuOZ0yiUMTlyFbGm\n",
            "To: /content/X_val.npy\n",
            "100% 608M/608M [00:07<00:00, 79.0MB/s]\n",
            "Downloading...\n",
            "From: https://drive.google.com/uc?id=1d1SVglkffNSZALCvoyMlgiDMDA2DsVXK\n",
            "To: /content/y_train.npy\n",
            "100% 7.00M/7.00M [00:00<00:00, 105MB/s]\n",
            "Downloading...\n",
            "From: https://drive.google.com/uc?id=1PhIZZCgfA3TqFIUjJl-z80Au6LJN84bw\n",
            "To: /content/y_val.npy\n",
            "100% 926k/926k [00:00<00:00, 83.9MB/s]\n"
          ]
        }
      ]
    },
    {
      "cell_type": "code",
      "source": [
        "!ls"
      ],
      "metadata": {
        "colab": {
          "base_uri": "https://localhost:8080/"
        },
        "id": "Z2QPEJbHhkbt",
        "outputId": "cdf030af-772d-4521-c5be-12f5d2239e82"
      },
      "execution_count": 3,
      "outputs": [
        {
          "output_type": "stream",
          "name": "stdout",
          "text": [
            "sample_data  X_train.npy  X_val.npy  y_train.npy  y_val.npy\n"
          ]
        }
      ]
    }
  ],
  "metadata": {
    "kernelspec": {
      "display_name": "Python 3 (ipykernel)",
      "language": "python",
      "name": "python3"
    },
    "language_info": {
      "codemirror_mode": {
        "name": "ipython",
        "version": 3
      },
      "file_extension": ".py",
      "mimetype": "text/x-python",
      "name": "python",
      "nbconvert_exporter": "python",
      "pygments_lexer": "ipython3",
      "version": "3.11.1"
    },
    "colab": {
      "provenance": []
    }
  },
  "nbformat": 4,
  "nbformat_minor": 0
}