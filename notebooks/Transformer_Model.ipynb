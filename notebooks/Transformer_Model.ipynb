{
  "nbformat": 4,
  "nbformat_minor": 0,
  "metadata": {
    "colab": {
      "provenance": []
    },
    "kernelspec": {
      "name": "python3",
      "display_name": "Python 3"
    },
    "language_info": {
      "name": "python"
    }
  },
  "cells": [
    {
      "cell_type": "code",
      "source": [
        "import numpy as np\n",
        "import pandas as pd\n",
        "import matplotlib.pyplot as plt\n",
        "import tensorflow as tf\n",
        "from keras import callbacks\n",
        "from tqdm.notebook import tqdm\n",
        "import warnings\n",
        "warnings.simplefilter(action='ignore', category=FutureWarning)"
      ],
      "metadata": {
        "id": "5wEavmxnzenU"
      },
      "execution_count": 1,
      "outputs": []
    },
    {
      "cell_type": "markdown",
      "source": [
        "# Model Config"
      ],
      "metadata": {
        "id": "tqbnhr-lyYBu"
      }
    },
    {
      "cell_type": "code",
      "execution_count": 2,
      "metadata": {
        "id": "9e1TVXxlyIdr"
      },
      "outputs": [],
      "source": [
        "# Epsilon value for layer normalisation\n",
        "LAYER_NORM_EPS = 1e-5\n",
        "\n",
        "# final embedding and transformer embedding size\n",
        "UNITS_ENCODER = 384\n",
        "UNITS_DECODER = 384\n",
        "\n",
        "# Transformer\n",
        "NUM_BLOCKS_ENCODER = 3\n",
        "NUM_BLOCKS_DECODER = 2\n",
        "NUM_HEADS = 4\n",
        "MLP_RATIO = 2\n",
        "\n",
        "# Dropout\n",
        "EMBEDDING_DROPOUT = 0.2\n",
        "MLP_DROPOUT_RATIO = 0.2\n",
        "MHA_DROPOUT_RATIO = 0.2\n",
        "CLASSIFIER_DROPOUT_RATIO = 0.2\n",
        "\n",
        "# Initiailizers\n",
        "INIT_HE_UNIFORM = tf.keras.initializers.he_uniform\n",
        "INIT_GLOROT_UNIFORM = tf.keras.initializers.glorot_uniform\n",
        "INIT_ZEROS = tf.keras.initializers.constant(0.0)\n",
        "# Activations\n",
        "GELU = tf.keras.activations.gelu\n",
        "\n",
        "# Max Learning Rate\n",
        "LEARNING_RATE = 1e-4\n",
        "\n",
        "# Number of time frames\n",
        "MAX_FRAMES = 128\n",
        "\n",
        "# Length of output + EOS Token\n",
        "MAX_OUTPUT_SEQUENCE_LENGTH = 31 + 1\n",
        "\n",
        "# Original number of classes\n",
        "OUTPUT_CLASSES0 = 59\n",
        "\n",
        "# PAD Token\n",
        "PAD_TOKEN = OUTPUT_CLASSES0\n",
        "\n",
        "# SOS TOEKN\n",
        "SOS_TOKEN =  OUTPUT_CLASSES0 + 1\n",
        "\n",
        "# EOS Token\n",
        "EOS_TOKEN = OUTPUT_CLASSES0 + 2\n",
        "\n",
        "# Possible Output classes\n",
        "OUTPUT_CLASSES = OUTPUT_CLASSES0 +  3 # with pad, sos, and eos tokens"
      ]
    },
    {
      "cell_type": "code",
      "source": [
        "FEATURE_DIM = 164 # Feature dimension"
      ],
      "metadata": {
        "id": "sCH3DGVG9R83"
      },
      "execution_count": 3,
      "outputs": []
    },
    {
      "cell_type": "code",
      "source": [
        "MEANS = 0 # Important to change to real value\n",
        "STDS = 0 # Important to change to real value"
      ],
      "metadata": {
        "id": "f-EgxRzk2T9c"
      },
      "execution_count": 4,
      "outputs": []
    },
    {
      "cell_type": "markdown",
      "source": [
        "# Feature Embedding\n"
      ],
      "metadata": {
        "id": "1iothQ2GyXJG"
      }
    },
    {
      "cell_type": "code",
      "source": [
        "# Embeds a feature using fully connected layers\n",
        "class FeatureEmbedding(tf.keras.Model):\n",
        "    def __init__(self, units, name):\n",
        "        super(FeatureEmbedding, self).__init__(name=f'{name}_embedding')\n",
        "        self.units = units\n",
        "        self.supports_masking = True\n",
        "\n",
        "    def build(self, input_shape):\n",
        "        # Embedding for missing feature in frame, initizlied with zeros\n",
        "        self.empty_embedding = self.add_weight(\n",
        "            name=f'{self.name}_empty_embedding',\n",
        "            shape=[self.units],\n",
        "            initializer=INIT_ZEROS,\n",
        "        )\n",
        "        # Embedding\n",
        "        self.dense = tf.keras.Sequential([\n",
        "            tf.keras.layers.Dense(self.units, name=f'{self.name}_dense_1', use_bias=False, kernel_initializer=INIT_GLOROT_UNIFORM, activation=GELU), # Can change initializer/activation\n",
        "            tf.keras.layers.Dense(self.units, name=f'{self.name}_dense_2', use_bias=False, kernel_initializer=INIT_HE_UNIFORM),\n",
        "        ], name=f'{self.name}_dense') # Can change initializer/activation\n",
        "\n",
        "    def call(self, x):\n",
        "        return tf.where(\n",
        "                # Checks whether feature is missing in frame\n",
        "                tf.reduce_sum(x, axis=2, keepdims=True) == 0,\n",
        "                # If so, the empty embedding is used\n",
        "                self.empty_embedding,\n",
        "                # Otherwise the feature data is embedded\n",
        "                self.dense(x),\n",
        "            )\n",
        "        # Note that not all transformers need to have the empty embedding."
      ],
      "metadata": {
        "id": "neXFEWLOysNV"
      },
      "execution_count": 5,
      "outputs": []
    },
    {
      "cell_type": "markdown",
      "source": [
        "# Final Embedding with Positional Embedding"
      ],
      "metadata": {
        "id": "NZXXwDjHzu9N"
      }
    },
    {
      "cell_type": "code",
      "source": [
        "# Creates embedding for each frame\n",
        "class Embedding(tf.keras.Model):\n",
        "    def __init__(self):\n",
        "        super(Embedding, self).__init__()\n",
        "        self.supports_masking = True\n",
        "\n",
        "    def build(self, input_shape):\n",
        "        # Positional embedding for each frame index\n",
        "        self.positional_embedding = tf.Variable(\n",
        "            initial_value=tf.zeros([MAX_FRAMES, UNITS_ENCODER], dtype=tf.float32),\n",
        "            trainable=True,\n",
        "            name='embedding_positional_encoder',\n",
        "        )\n",
        "        # Embedding layer for Features\n",
        "        self.feature_embedding = FeatureEmbedding(UNITS_ENCODER, 'feature')\n",
        "\n",
        "    def call(self, x, training=False):\n",
        "        # Normalize\n",
        "        x = tf.where(\n",
        "                tf.math.equal(x, 0.0),\n",
        "                0.0,\n",
        "                (x - MEANS) / STDS,\n",
        "            )\n",
        "        # Dominant Hand\n",
        "        x = self.feature_embedding(x)\n",
        "        # Add Positional Encoding\n",
        "        x = x + self.positional_embedding\n",
        "\n",
        "        return x"
      ],
      "metadata": {
        "id": "uAgNXCyAzbFH"
      },
      "execution_count": 6,
      "outputs": []
    },
    {
      "cell_type": "markdown",
      "source": [
        "# MultiHead Attention Block"
      ],
      "metadata": {
        "id": "DVQQSjJE3FBE"
      }
    },
    {
      "cell_type": "code",
      "source": [
        "# replaced softmax with softmax layer to support masked softmax\n",
        "def scaled_dot_product(q,k,v, softmax, attention_mask):\n",
        "    #calculates Q . K(transpose)\n",
        "    qkt = tf.matmul(q,k,transpose_b=True)\n",
        "    #caculates scaling factor\n",
        "    dk = tf.math.sqrt(tf.cast(q.shape[-1],dtype=tf.float32))\n",
        "    scaled_qkt = qkt/dk\n",
        "    softmax = softmax(scaled_qkt, mask=attention_mask)\n",
        "    z = tf.matmul(softmax,v)\n",
        "    #shape: (m,Tx,depth), same shape as q,k,v\n",
        "    return z\n",
        "\n",
        "class MultiHeadAttention(tf.keras.layers.Layer):\n",
        "    def __init__(self,d_model, num_of_heads, dropout, d_out=None):\n",
        "        super(MultiHeadAttention,self).__init__()\n",
        "        self.d_model = d_model\n",
        "        self.num_of_heads = num_of_heads\n",
        "        self.depth = d_model // num_of_heads # Can change\n",
        "        self.wq = [tf.keras.layers.Dense(self.depth//2, use_bias=False) for i in range(num_of_heads)] # depth//2 isn't common, we can try different numbers\n",
        "        self.wk = [tf.keras.layers.Dense(self.depth//2, use_bias=False) for i in range(num_of_heads)]\n",
        "        self.wv = [tf.keras.layers.Dense(self.depth//2, use_bias=False) for i in range(num_of_heads)]\n",
        "        self.softmax = tf.keras.layers.Softmax()\n",
        "        self.do = tf.keras.layers.Dropout(dropout)\n",
        "        self.supports_masking = True\n",
        "        self.wo = tf.keras.layers.Dense(d_model if d_out is None else d_out, use_bias=False)\n",
        "\n",
        "    def call(self, q, k, v, attention_mask=None, training=False):\n",
        "\n",
        "        multi_attn = []\n",
        "        for i in range(self.num_of_heads):\n",
        "            Q = self.wq[i](q)\n",
        "            K = self.wk[i](k)\n",
        "            V = self.wv[i](v)\n",
        "            multi_attn.append(scaled_dot_product(Q,K,V, self.softmax, attention_mask))\n",
        "\n",
        "        multi_head = tf.concat(multi_attn, axis=-1)\n",
        "        multi_head_attention = self.wo(multi_head)\n",
        "        multi_head_attention = self.do(multi_head_attention, training=training)\n",
        "\n",
        "        return multi_head_attention"
      ],
      "metadata": {
        "id": "xnRYKx-929BJ"
      },
      "execution_count": 7,
      "outputs": []
    },
    {
      "cell_type": "markdown",
      "source": [
        "# Transformer Block"
      ],
      "metadata": {
        "id": "T64ThDVU33FC"
      }
    },
    {
      "cell_type": "code",
      "source": [
        "class TransformerBlock(tf.keras.layers.Layer):\n",
        "    def __init__(self, units, num_heads, mlp_ratio, mha_dropout_ratio, mlp_dropout_ratio, is_decoder=False, **kwargs):\n",
        "        super(TransformerBlock, self).__init__(**kwargs)\n",
        "        self.is_decoder = is_decoder # Checks if decoder\n",
        "        self.layer_norm_1 = tf.keras.layers.LayerNormalization(epsilon=LAYER_NORM_EPS)\n",
        "        self.mha = MultiHeadAttention(units, num_heads, mha_dropout_ratio)\n",
        "        self.layer_norm_2 = tf.keras.layers.LayerNormalization(epsilon=LAYER_NORM_EPS)\n",
        "        self.mlp = tf.keras.Sequential([\n",
        "            tf.keras.layers.Dense(units * mlp_ratio, activation=GELU, kernel_initializer=INIT_GLOROT_UNIFORM, use_bias=False),\n",
        "            tf.keras.layers.Dropout(mlp_dropout_ratio),\n",
        "            tf.keras.layers.Dense(units, kernel_initializer=INIT_HE_UNIFORM, use_bias=False),\n",
        "        ])\n",
        "\n",
        "    def call(self, inputs, attention_mask, encoder_outputs=None, training=False):\n",
        "        if self.is_decoder:\n",
        "            assert encoder_outputs is not None # decoder must get output from encoder\n",
        "            x = self.layer_norm_1(inputs + self.mha(inputs, encoder_outputs, encoder_outputs, attention_mask=attention_mask))\n",
        "        else:\n",
        "            x = self.layer_norm_1(inputs + self.mha(inputs, inputs, inputs, attention_mask=attention_mask))\n",
        "\n",
        "        x = self.layer_norm_2(x + self.mlp(x))\n",
        "        return x\n"
      ],
      "metadata": {
        "id": "MOsefjyT34mY"
      },
      "execution_count": 8,
      "outputs": []
    },
    {
      "cell_type": "markdown",
      "source": [
        "# Encoder"
      ],
      "metadata": {
        "id": "LdlYtgy24QyN"
      }
    },
    {
      "cell_type": "code",
      "source": [
        "class Encoder(tf.keras.Model):\n",
        "    def __init__(self, num_blocks):\n",
        "        super(Encoder, self).__init__(name='encoder')\n",
        "        self.num_blocks = num_blocks\n",
        "        self.support_masking = True\n",
        "        self.blocks = [TransformerBlock(UNITS_ENCODER, NUM_HEADS, MLP_RATIO, MHA_DROPOUT_RATIO, MLP_DROPOUT_RATIO) for _ in range(num_blocks)]\n",
        "\n",
        "        # Optional Projection to Decoder Dimension\n",
        "        if UNITS_ENCODER != UNITS_DECODER:\n",
        "            self.dense_out = tf.keras.layers.Dense(UNITS_DECODER, kernel_initializer=INIT_GLOROT_UNIFORM, use_bias=False)\n",
        "            self.apply_dense_out = True\n",
        "        else:\n",
        "            self.apply_dense_out = False\n",
        "\n",
        "    def call(self, x, x_inp, training=False):\n",
        "        # Attention mask to ignore missing frames\n",
        "        attention_mask = tf.where(tf.math.reduce_sum(x_inp, axis=[2]) == 0.0, 0.0, 1.0)\n",
        "        attention_mask = tf.expand_dims(attention_mask, axis=1)\n",
        "        attention_mask = tf.repeat(attention_mask, repeats=MAX_FRAMES, axis=1)\n",
        "\n",
        "        # Iterate input over transformer blocks\n",
        "        for block in self.blocks:\n",
        "            x = block(x, attention_mask=attention_mask, training=training)\n",
        "\n",
        "        # Optional Projection to Decoder Dimension\n",
        "        if self.apply_dense_out:\n",
        "            x = self.dense_out(x)\n",
        "\n",
        "        return x, attention_mask\n"
      ],
      "metadata": {
        "id": "C1ZHJRK84Rdb"
      },
      "execution_count": 9,
      "outputs": []
    },
    {
      "cell_type": "markdown",
      "source": [
        "# Decoder"
      ],
      "metadata": {
        "id": "cI6RCvjO4nEL"
      }
    },
    {
      "cell_type": "code",
      "source": [
        "class Decoder(tf.keras.Model):\n",
        "    def __init__(self, num_blocks):\n",
        "        super(Decoder, self).__init__(name='decoder')\n",
        "        self.num_blocks = num_blocks\n",
        "        self.supports_masking = True\n",
        "\n",
        "        # Positional Embedding, initialized with zeros\n",
        "        self.positional_embedding = tf.Variable(\n",
        "            initial_value=tf.zeros([MAX_FRAMES, UNITS_DECODER], dtype=tf.float32),\n",
        "            trainable=True,\n",
        "            name='embedding_positional_encoder',\n",
        "        )\n",
        "\n",
        "        # Character Embedding\n",
        "        self.char_emb = tf.keras.layers.Embedding(OUTPUT_CLASSES, UNITS_DECODER, embeddings_initializer=INIT_ZEROS)\n",
        "\n",
        "        # Positional Encoder MHA\n",
        "        self.pos_emb_mha = MultiHeadAttention(UNITS_DECODER, NUM_HEADS, MHA_DROPOUT_RATIO)\n",
        "        self.pos_emb_ln = tf.keras.layers.LayerNormalization(epsilon=LAYER_NORM_EPS)\n",
        "\n",
        "        # Transformer Blocks\n",
        "        self.blocks = [TransformerBlock(UNITS_DECODER, NUM_HEADS, MLP_RATIO, MHA_DROPOUT_RATIO,MLP_DROPOUT_RATIO, is_decoder=True) for _ in range(num_blocks)]\n",
        "\n",
        "    def get_causal_attention_mask(self, B):\n",
        "        # My version of the mask AM\n",
        "        ones = tf.ones((MAX_FRAMES, MAX_FRAMES))\n",
        "        mask = tf.linalg.band_part(ones, 0, -1)\n",
        "        mask = tf.transpose(mask)\n",
        "        mask = tf.expand_dims(mask, axis=0)\n",
        "        mask = tf.tile(mask, [B, 1, 1])\n",
        "        mask = tf.cast(mask, tf.float32)\n",
        "        return mask\n",
        "\n",
        "    def call(self, encoder_outputs, attention_mask, y, training=False):\n",
        "        # Batch Size\n",
        "        B = tf.shape(encoder_outputs)[0]\n",
        "        # Cast to INT32\n",
        "        y = tf.cast(y, tf.int32)\n",
        "        # Prepend SOS Token\n",
        "        y = tf.pad(y, [[0,0], [1,0]], constant_values=SOS_TOKEN, name='prepend_sos_token')\n",
        "        # Pad With PAD Token\n",
        "        y = tf.pad(y, [[0,0], [0,MAX_FRAMES-MAX_OUTPUT_SEQUENCE_LENGTH-1]], constant_values=PAD_TOKEN, name='append_pad_token')\n",
        "        # Causal Mask\n",
        "        causal_mask = self.get_causal_attention_mask(B)\n",
        "        # Positional Embedding\n",
        "        x = self.positional_embedding + self.char_emb(y)\n",
        "        # Causal Attention\n",
        "        x = self.pos_emb_ln(x + self.pos_emb_mha(x, x, x, attention_mask=causal_mask))\n",
        "        # Iterate input over causal_masktransformer blocks\n",
        "        for block in self.blocks:\n",
        "            x = block(x, attention_mask=attention_mask, encoder_outputs=encoder_outputs, training=training)\n",
        "        # Slice\n",
        "        x = tf.slice(x, [0, 0, 0], [-1, MAX_OUTPUT_SEQUENCE_LENGTH, -1])\n",
        "        return x\n"
      ],
      "metadata": {
        "id": "TBywgtnr4nqN"
      },
      "execution_count": 10,
      "outputs": []
    },
    {
      "cell_type": "markdown",
      "source": [
        "# Non Pad/SOS/EOS Token Accuracy"
      ],
      "metadata": {
        "id": "fXl67d0m75O3"
      }
    },
    {
      "cell_type": "code",
      "source": [
        "# TopK accuracy for multi dimensional output\n",
        "class TopKAccuracy(tf.keras.metrics.Metric):\n",
        "    def __init__(self, k, **kwargs):\n",
        "        super(TopKAccuracy, self).__init__(name=f'top{k}acc', **kwargs)\n",
        "        self.top_k_acc = tf.keras.metrics.SparseTopKCategoricalAccuracy(k=k)\n",
        "\n",
        "    def update_state(self, y_true, y_pred, sample_weight=None):\n",
        "        y_true = tf.reshape(y_true, [-1])\n",
        "        y_pred = tf.reshape(y_pred, [-1, OUTPUT_CLASSES])\n",
        "        character_idxs = tf.where(y_true < OUTPUT_CLASSES0)\n",
        "        y_true = tf.gather(y_true, character_idxs, axis=0)\n",
        "        y_pred = tf.gather(y_pred, character_idxs, axis=0)\n",
        "        self.top_k_acc.update_state(y_true, y_pred)\n",
        "\n",
        "    def result(self):\n",
        "        return self.top_k_acc.result()\n",
        "\n",
        "    def reset_state(self):\n",
        "        self.top_k_acc.reset_state()"
      ],
      "metadata": {
        "id": "hri9HOSc74ng"
      },
      "execution_count": 11,
      "outputs": []
    },
    {
      "cell_type": "markdown",
      "source": [
        "# Sparse Categorical Crossentropy With Label Smoothing"
      ],
      "metadata": {
        "id": "8zMicrDl8ZJo"
      }
    },
    {
      "cell_type": "code",
      "source": [
        "# source:: https://stackoverflow.com/questions/60689185/label-smoothing-for-sparse-categorical-crossentropy\n",
        "\n",
        "class CustomSCCEWithLS(tf.keras.losses.Loss):\n",
        "    def __init__(self, loss_weights, pad_token=PAD_TOKEN, output_classes=OUTPUT_CLASSES, label_smoothing=0.25, **kwargs):\n",
        "        super().__init__(**kwargs)\n",
        "        self.loss_weights = loss_weights\n",
        "        self.pad_token = pad_token\n",
        "        self.output_classes = output_classes\n",
        "        self.label_smoothing = label_smoothing\n",
        "\n",
        "    def call(self, y_true, y_pred):\n",
        "        # Filter Pad Tokens\n",
        "        idxs = tf.where(y_true != self.pad_token)\n",
        "        y_true = tf.gather_nd(y_true, idxs)\n",
        "        y_pred = tf.gather_nd(y_pred, idxs)\n",
        "        # One Hot Encode Sparsely Encoded Target Sign\n",
        "        y_true = tf.cast(y_true, tf.int32)\n",
        "        y_true = tf.one_hot(y_true, self.output_classes, axis=1)\n",
        "        # Apply loss_weights\n",
        "        y_true = y_true * self.loss_weights\n",
        "        # Categorical Crossentropy with native label smoothing support\n",
        "        loss = tf.keras.losses.categorical_crossentropy(y_true, y_pred, label_smoothing=self.label_smoothing, from_logits=True)\n",
        "        loss = tf.math.reduce_mean(loss)\n",
        "        return loss\n",
        "\n",
        "    def get_config(self):\n",
        "        base_config = super().get_config()\n",
        "        return {**base_config, \"loss_weights\": self.loss_weights.tolist(), \"pad_token\": self.pad_token,\n",
        "                \"output_classes\": self.output_classes, \"label_smoothing\": self.label_smoothing}\n"
      ],
      "metadata": {
        "id": "IRFOr9u48gRD"
      },
      "execution_count": 12,
      "outputs": []
    },
    {
      "cell_type": "markdown",
      "source": [
        "# Model"
      ],
      "metadata": {
        "id": "OjX04JV088rw"
      }
    },
    {
      "cell_type": "code",
      "source": [
        "def get_model():\n",
        "    # Inputs\n",
        "    frames_inp = tf.keras.layers.Input([MAX_FRAMES, FEATURE_DIM], dtype=tf.float32, name='frames')\n",
        "    phrase_inp = tf.keras.layers.Input([MAX_OUTPUT_SEQUENCE_LENGTH], dtype=tf.int32, name='phrase')\n",
        "    # Frames\n",
        "    x = frames_inp\n",
        "\n",
        "    # Masking\n",
        "    x = tf.keras.layers.Masking(mask_value=0.0, input_shape=(MAX_FRAMES, FEATURE_DIM))(x)\n",
        "\n",
        "    # Embedding\n",
        "    x = Embedding()(x)\n",
        "\n",
        "    # Encoder Transformer Blocks\n",
        "    x, attention_mask = Encoder(NUM_BLOCKS_ENCODER)(x, frames_inp)\n",
        "\n",
        "    # Decoder\n",
        "    x = Decoder(NUM_BLOCKS_DECODER)(x, attention_mask, phrase_inp)\n",
        "\n",
        "    # Classifier\n",
        "    x = tf.keras.Sequential([\n",
        "        # Dropout\n",
        "        tf.keras.layers.Dropout(CLASSIFIER_DROPOUT_RATIO),\n",
        "        # Output Neurons\n",
        "        tf.keras.layers.Dense(OUTPUT_CLASSES, activation=tf.keras.activations.linear, kernel_initializer=INIT_HE_UNIFORM, use_bias=False), # can changes initializer/activation\n",
        "    ], name='classifier')(x)\n",
        "\n",
        "    outputs = x\n",
        "\n",
        "    # Create Tensorflow Model\n",
        "    model = tf.keras.models.Model(inputs=[frames_inp, phrase_inp], outputs=outputs)\n",
        "\n",
        "    #optimizer\n",
        "    optimizer = tf.keras.optimizers.Adam(learning_rate=0.0001) # We should try different optimizers with learning rate scheduler\n",
        "\n",
        "    # Create Initial Loss Weights All Set To 1\n",
        "    loss_weights_tensor = tf.ones([OUTPUT_CLASSES], dtype=tf.float32)\n",
        "    # Set Loss Weight Of Pad Token To 0\n",
        "    loss_weights_tensor = tf.tensor_scatter_nd_update(loss_weights_tensor, [[PAD_TOKEN]], [0])\n",
        "\n",
        "    # Convert the tensor to a numpy array\n",
        "    loss_weights = loss_weights_tensor.numpy()\n",
        "\n",
        "    # Categorical Crossentropy Loss With Label Smoothing\n",
        "#     loss = scce_with_ls\n",
        "    loss = CustomSCCEWithLS(loss_weights)\n",
        "\n",
        "    metrics = [\n",
        "        TopKAccuracy(1),\n",
        "        TopKAccuracy(5),\n",
        "    ]\n",
        "\n",
        "\n",
        "\n",
        "    model.compile(\n",
        "        loss=loss,\n",
        "        optimizer=optimizer,\n",
        "        metrics=metrics,\n",
        "        loss_weights=loss_weights,\n",
        "    )\n",
        "\n",
        "    return model"
      ],
      "metadata": {
        "id": "yjjxTSTX89QY"
      },
      "execution_count": 13,
      "outputs": []
    },
    {
      "cell_type": "code",
      "source": [
        "tf.keras.backend.clear_session()\n",
        "\n",
        "model = get_model()\n",
        "model.summary()"
      ],
      "metadata": {
        "colab": {
          "base_uri": "https://localhost:8080/"
        },
        "id": "RwHt1qI89Zan",
        "outputId": "22ffa1f5-7218-4165-fcb6-b57786291adc"
      },
      "execution_count": 14,
      "outputs": [
        {
          "output_type": "stream",
          "name": "stdout",
          "text": [
            "Model: \"model\"\n",
            "__________________________________________________________________________________________________\n",
            " Layer (type)                   Output Shape         Param #     Connected to                     \n",
            "==================================================================================================\n",
            " frames (InputLayer)            [(None, 128, 164)]   0           []                               \n",
            "                                                                                                  \n",
            " masking (Masking)              (None, 128, 164)     0           ['frames[0][0]']                 \n",
            "                                                                                                  \n",
            " embedding (Embedding)          (None, 128, 384)     259968      ['masking[0][0]']                \n",
            "                                                                                                  \n",
            " encoder (Encoder)              ((None, 128, 384),   2658816     ['embedding[0][0]',              \n",
            "                                 (None, 128, 128))                'frames[0][0]']                 \n",
            "                                                                                                  \n",
            " phrase (InputLayer)            [(None, 32)]         0           []                               \n",
            "                                                                                                  \n",
            " decoder (Decoder)              (None, 32, 384)      2141184     ['encoder[0][0]',                \n",
            "                                                                  'encoder[0][1]',                \n",
            "                                                                  'phrase[0][0]']                 \n",
            "                                                                                                  \n",
            " classifier (Sequential)        (None, 32, 62)       23808       ['decoder[0][0]']                \n",
            "                                                                                                  \n",
            "==================================================================================================\n",
            "Total params: 5,083,776\n",
            "Trainable params: 5,083,776\n",
            "Non-trainable params: 0\n",
            "__________________________________________________________________________________________________\n"
          ]
        }
      ]
    },
    {
      "cell_type": "code",
      "source": [
        "tf.keras.utils.plot_model(model, show_shapes=True, show_dtype=True, show_layer_names=True, show_layer_activations=True)"
      ],
      "metadata": {
        "colab": {
          "base_uri": "https://localhost:8080/",
          "height": 661
        },
        "id": "O_djM30C-H-S",
        "outputId": "e2d07247-0696-4fd8-da48-0534844dda71"
      },
      "execution_count": 15,
      "outputs": [
        {
          "output_type": "execute_result",
          "data": {
            "image/png": "[encoded data removed]",
            "text/plain": [
              "<IPython.core.display.Image object>"
            ]
          },
          "metadata": {},
          "execution_count": 15
        }
      ]
    },
    {
      "cell_type": "code",
      "source": [],
      "metadata": {
        "id": "Mos7SOUbDG2g"
      },
      "execution_count": 15,
      "outputs": []
    }
  ]
}